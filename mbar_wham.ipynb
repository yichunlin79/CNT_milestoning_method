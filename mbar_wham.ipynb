{
 "cells": [
  {
   "cell_type": "code",
   "execution_count": 1,
   "metadata": {},
   "outputs": [
    {
     "name": "stderr",
     "output_type": "stream",
     "text": [
      "Python was not found; run without arguments to install from the Microsoft Store, or disable this shortcut from Settings > Manage App Execution Aliases.\n"
     ]
    }
   ],
   "source": [
    "#%cd ~/work/charlie/etdm_water_octonol/pmf_setup/bigger_box4/\n",
    "#!pwd\n",
    "import pymbar\n",
    "from pymbar import timeseries\n",
    "!python3 --version\n",
    "import numpy as np\n",
    "import numpy\n",
    "import pandas as pd\n",
    "import matplotlib\n",
    "from matplotlib import pyplot as plt\n",
    "from matplotlib import axes\n",
    "import seaborn as sns\n",
    "import csv\n",
    "import os as os\n",
    "import sys\n",
    "\n",
    "import ipywidgets as widgets\n",
    "from ipywidgets import interact,interact_manual\n",
    "\n",
    "import tqdm\n",
    "import gc"
   ]
  },
  {
   "cell_type": "code",
   "execution_count": 2,
   "metadata": {},
   "outputs": [],
   "source": [
    "#kB = 1.381e-23 * 6.022e23 / 1000.0 # Boltzmann constant in kJ/mol/K\n",
    "kB=0.001985875 #kcal/(mol*K)\n",
    "temperature = 300 # assume a single temperature -- can be overridden with data from center.dat \n",
    "# Parameters\n",
    "K = 28 # number of umbrellas +1\n",
    "S = 2 # number of steps +1\n",
    "N_max = 100001 # maximum number of snapshots/simulation\n",
    "T_k = numpy.ones(K,float)*temperature # inital temperatures are all equal \n",
    "beta = 1.0 / (kB * temperature) # inverse temperature of simulations (in 1/(kJ/mol))\n",
    "chi_min = -28 # min for PMF\n",
    "chi_max = 28 # max for PMF\n",
    "nbins = 28 # number of bins for 1D PMF"
   ]
  },
  {
   "cell_type": "code",
   "execution_count": 18,
   "metadata": {},
   "outputs": [],
   "source": [
    "# #for creating metadatafile\n",
    "\n",
    "# #%cd ~/work/charlie/etdm_water_octonol/pmf_setup/bigger_box4/\n",
    "# fileName=[]\n",
    "# centers=[]\n",
    "# k=[]\n",
    "\n",
    "# for s in np.arange(S):\n",
    "#     if s == 1:\n",
    "#         for k in np.arange(K):\n",
    "#             if k > 0:\n",
    "#                 name=('US/window_{:0>2d}_rest.step_8.dat.z'.format(k))\n",
    "#                 fileName.append(name)\n",
    "#                 centersRange=np.arange(0,29,2)\n",
    "#                 centers.append(centersRange[k])\n",
    "#                 k=[2.5*2]*len(centers) ## 0.5 is FC\n",
    "#         for x in fileName:\n",
    "#             dict={\"file\":fileName,\"centers\":centers,\"k\":k}\n",
    "#         metadata=pd.DataFrame(data=dict)\n",
    "#         metadata.to_csv(\"metadata.dat\", index=False, header=None,sep=\" \")"
   ]
  },
  {
   "cell_type": "code",
   "execution_count": 21,
   "metadata": {},
   "outputs": [],
   "source": [
    "fileName=[]\n",
    "centers=[]\n",
    "k=[]\n",
    "for k in np.arange(K):\n",
    "    #print (k)\n",
    "    if k >-1:\n",
    "        name=('window_{:0>2d}_rest.step_all.dat.z'.format(k))\n",
    "        fileName.append(name)\n",
    "        centersRange=np.arange(-27,29,2)\n",
    "        centers.append(centersRange[k])\n",
    "        k=[2.5]*len(centers)\n",
    "        for x in fileName:\n",
    "            dict={\"file\":fileName,\"centers\":centers,\"k\":k}\n",
    "        metadata=pd.DataFrame(data=dict)\n",
    "        metadata.to_csv(\"metadata.dat\", index=False, header=None,sep=\" \")"
   ]
  },
  {
   "cell_type": "code",
   "execution_count": 22,
   "metadata": {},
   "outputs": [],
   "source": [
    "# Allocate storage for simulation data\n",
    "N_k = numpy.zeros([K], numpy.int32) # N_k[k] is the number of snapshots from umbrella simulation k\n",
    "K_k = numpy.zeros([K], numpy.float64) # K_k[k] is the spring constant (in kJ/mol/deg**2) for umbrella simulation k\n",
    "chi0_k = numpy.zeros([K], numpy.float64) # chi0_k[k] is the spring center location (in deg) for umbrella simulation k\n",
    "chi_kn = numpy.zeros([K,N_max], numpy.float64) # chi_kn[k,n] is the torsion angle (in deg) for snapshot n from umbrella simulation k\n",
    "u_kn = numpy.zeros([K,N_max], numpy.float64) # u_kn[k,n] is the reduced potential energy without umbrella restraints of snapshot n of umbrella simulation k\n",
    "g_k = numpy.zeros([K],numpy.float32);\n"
   ]
  },
  {
   "cell_type": "code",
   "execution_count": 25,
   "metadata": {},
   "outputs": [],
   "source": [
    "## for WHAM ## \n",
    "# for s in np.arange(S):\n",
    "#     if s>1:\n",
    "#         print(pd.read_csv('metadata-{}.dat'.format(s),delim_whitespace=True, header=None))\n",
    "\n",
    "# %cd ~/charlie/wham/wham\n",
    "\n",
    "# !./wham 85.0 196.0 224 0.0000000001 310.15 0 ~/charlie/etdm_water_octonol/pmf_setup/bigger_box4/metadata-2.dat ~/charlie/etdm_water_octonol/pmf_setup/bigger_box4/wham_85_196_224-2\n",
    "# min max bin_size 0.0000000001 temp\n",
    "\n",
    "# %cd ~/work/charlie/etdm_water_octonol/pmf_setup/bigger_box4/\n",
    "\n",
    "# remove \"#\" signs before readin\n",
    "# !sed '/#/d' wham_85_196_224-2 > wham_85_196_224-2.pmf\n",
    "\n",
    "#whampmf2=pd.read_csv(\"wham.pmf\",delim_whitespace=True,header=None)\n",
    "\n",
    "# wham_coord_arr=[whampmf2[0],whampmf3[0],whampmf4[0],whampmf5[0],whampmf6[0],whampmf7[0],whampmf8[0],whampmf9[0],whampmf10[0],whampmf11[0],whampmf12[0],whampmf13[0],whampmf14[0]]\n",
    "\n"
   ]
  },
  {
   "cell_type": "code",
   "execution_count": 4,
   "metadata": {},
   "outputs": [
    {
     "name": "stdout",
     "output_type": "stream",
     "text": [
      "   Z_window  PMF_energy  Uncertainty         x  NONE\n",
      "0   -27.965    0.797506          NaN  0.001021   NaN\n",
      "1   -27.895    0.647296          NaN  0.001314   NaN\n",
      "2   -27.825    0.643805          NaN  0.001321   NaN\n",
      "3   -27.755    0.659841          NaN  0.001286   NaN\n",
      "4   -27.685    0.713889          NaN  0.001175   NaN\n"
     ]
    }
   ],
   "source": [
    "whampmf2=pd.read_csv(\"wham.pmf\",delim_whitespace=True,header=None)\n",
    "whampmf2.columns=['Z_window','PMF_energy','Uncertainty','x','NONE']\n",
    "print (whampmf2.head())"
   ]
  },
  {
   "cell_type": "code",
   "execution_count": 4,
   "metadata": {
    "scrolled": true
   },
   "outputs": [
    {
     "name": "stdout",
     "output_type": "stream",
     "text": [
      "     Z_window  PMF_energy  Uncertainty         x  NONE\n",
      "795    27.685    0.838250          NaN  0.003789   NaN\n",
      "796    27.755    0.694709          NaN  0.004823   NaN\n",
      "797    27.825    0.708089          NaN  0.004716   NaN\n",
      "798    27.895    0.601741          NaN  0.005639   NaN\n",
      "799    27.965    0.315914          NaN  0.009118   NaN\n"
     ]
    }
   ],
   "source": [
    "print (whampmf2.tail())"
   ]
  },
  {
   "cell_type": "code",
   "execution_count": 5,
   "metadata": {},
   "outputs": [
    {
     "data": {
      "text/plain": [
       "[<matplotlib.lines.Line2D at 0x265594d5820>]"
      ]
     },
     "execution_count": 5,
     "metadata": {},
     "output_type": "execute_result"
    },
    {
     "data": {
      "image/png": "[encoded data removed]",
      "text/plain": [
       "<Figure size 432x288 with 1 Axes>"
      ]
     },
     "metadata": {
      "needs_background": "light"
     },
     "output_type": "display_data"
    }
   ],
   "source": [
    "plt.plot(whampmf2.Z_window,whampmf2.PMF_energy)"
   ]
  },
  {
   "cell_type": "code",
   "execution_count": 19,
   "metadata": {},
   "outputs": [],
   "source": [
    "# filename = ('window_{}.{}_rest.step_8.dat.z'.format(k,s))\n",
    "# #print (\"Reading %s...\" % filename)\n",
    "# print (filename)\n",
    "# for k in range(K):\n",
    "#     #print (k)\n",
    "#     filename=('window_{}_rest.step_8.dat.z'.format(k))\n",
    "#     print (filename)"
   ]
  },
  {
   "cell_type": "code",
   "execution_count": 24,
   "metadata": {},
   "outputs": [
    {
     "ename": "ValueError",
     "evalue": "No objects to concatenate",
     "output_type": "error",
     "traceback": [
      "\u001b[1;31m---------------------------------------------------------------------------\u001b[0m",
      "\u001b[1;31mValueError\u001b[0m                                Traceback (most recent call last)",
      "\u001b[1;32m<ipython-input-24-935eae6feb8e>\u001b[0m in \u001b[0;36m<module>\u001b[1;34m\u001b[0m\n\u001b[0;32m    122\u001b[0m             \u001b[0mmbar_dats\u001b[0m\u001b[1;33m.\u001b[0m\u001b[0mappend\u001b[0m\u001b[1;33m(\u001b[0m\u001b[0mmbar_dat\u001b[0m\u001b[1;33m.\u001b[0m\u001b[0mcopy\u001b[0m\u001b[1;33m(\u001b[0m\u001b[1;33m)\u001b[0m\u001b[1;33m)\u001b[0m\u001b[1;33m\u001b[0m\u001b[1;33m\u001b[0m\u001b[0m\n\u001b[0;32m    123\u001b[0m             \u001b[0mprint\u001b[0m \u001b[1;33m(\u001b[0m\u001b[0mmbar_dat\u001b[0m\u001b[1;33m)\u001b[0m\u001b[1;33m\u001b[0m\u001b[1;33m\u001b[0m\u001b[0m\n\u001b[1;32m--> 124\u001b[1;33m \u001b[0mmbar_data\u001b[0m\u001b[1;33m=\u001b[0m\u001b[0mpd\u001b[0m\u001b[1;33m.\u001b[0m\u001b[0mconcat\u001b[0m\u001b[1;33m(\u001b[0m\u001b[0mmbar_dats\u001b[0m\u001b[1;33m)\u001b[0m\u001b[1;33m\u001b[0m\u001b[1;33m\u001b[0m\u001b[0m\n\u001b[0m\u001b[0;32m    125\u001b[0m \u001b[0mmbar_data\u001b[0m\u001b[1;33m.\u001b[0m\u001b[0mhead\u001b[0m\u001b[1;33m(\u001b[0m\u001b[1;33m)\u001b[0m\u001b[1;33m\u001b[0m\u001b[1;33m\u001b[0m\u001b[0m\n\u001b[0;32m    126\u001b[0m \u001b[1;33m\u001b[0m\u001b[0m\n",
      "\u001b[1;32m~\\Anaconda2\\envs\\p36workshop\\lib\\site-packages\\pandas\\core\\reshape\\concat.py\u001b[0m in \u001b[0;36mconcat\u001b[1;34m(objs, axis, join, ignore_index, keys, levels, names, verify_integrity, sort, copy)\u001b[0m\n\u001b[0;32m    272\u001b[0m     \u001b[0mValueError\u001b[0m\u001b[1;33m:\u001b[0m \u001b[0mIndexes\u001b[0m \u001b[0mhave\u001b[0m \u001b[0moverlapping\u001b[0m \u001b[0mvalues\u001b[0m\u001b[1;33m:\u001b[0m \u001b[1;33m[\u001b[0m\u001b[1;34m'a'\u001b[0m\u001b[1;33m]\u001b[0m\u001b[1;33m\u001b[0m\u001b[1;33m\u001b[0m\u001b[0m\n\u001b[0;32m    273\u001b[0m     \"\"\"\n\u001b[1;32m--> 274\u001b[1;33m     op = _Concatenator(\n\u001b[0m\u001b[0;32m    275\u001b[0m         \u001b[0mobjs\u001b[0m\u001b[1;33m,\u001b[0m\u001b[1;33m\u001b[0m\u001b[1;33m\u001b[0m\u001b[0m\n\u001b[0;32m    276\u001b[0m         \u001b[0maxis\u001b[0m\u001b[1;33m=\u001b[0m\u001b[0maxis\u001b[0m\u001b[1;33m,\u001b[0m\u001b[1;33m\u001b[0m\u001b[1;33m\u001b[0m\u001b[0m\n",
      "\u001b[1;32m~\\Anaconda2\\envs\\p36workshop\\lib\\site-packages\\pandas\\core\\reshape\\concat.py\u001b[0m in \u001b[0;36m__init__\u001b[1;34m(self, objs, axis, join, keys, levels, names, ignore_index, verify_integrity, copy, sort)\u001b[0m\n\u001b[0;32m    329\u001b[0m \u001b[1;33m\u001b[0m\u001b[0m\n\u001b[0;32m    330\u001b[0m         \u001b[1;32mif\u001b[0m \u001b[0mlen\u001b[0m\u001b[1;33m(\u001b[0m\u001b[0mobjs\u001b[0m\u001b[1;33m)\u001b[0m \u001b[1;33m==\u001b[0m \u001b[1;36m0\u001b[0m\u001b[1;33m:\u001b[0m\u001b[1;33m\u001b[0m\u001b[1;33m\u001b[0m\u001b[0m\n\u001b[1;32m--> 331\u001b[1;33m             \u001b[1;32mraise\u001b[0m \u001b[0mValueError\u001b[0m\u001b[1;33m(\u001b[0m\u001b[1;34m\"No objects to concatenate\"\u001b[0m\u001b[1;33m)\u001b[0m\u001b[1;33m\u001b[0m\u001b[1;33m\u001b[0m\u001b[0m\n\u001b[0m\u001b[0;32m    332\u001b[0m \u001b[1;33m\u001b[0m\u001b[0m\n\u001b[0;32m    333\u001b[0m         \u001b[1;32mif\u001b[0m \u001b[0mkeys\u001b[0m \u001b[1;32mis\u001b[0m \u001b[1;32mNone\u001b[0m\u001b[1;33m:\u001b[0m\u001b[1;33m\u001b[0m\u001b[1;33m\u001b[0m\u001b[0m\n",
      "\u001b[1;31mValueError\u001b[0m: No objects to concatenate"
     ]
    }
   ],
   "source": [
    "infile = open('US_win_center.txt', 'r')\n",
    "lines = infile.readlines()\n",
    "infile.close()\n",
    "for k in range(K):\n",
    "    # Parse line k.\n",
    "    line = lines[k]\n",
    "    tokens = line.split(\",\")\n",
    "    chi0_k[k] = float(tokens[0]) # spring center location \n",
    "    K_k[k] = float(tokens[1]) # spring constant \n",
    "    if len(tokens) > 2:\n",
    "        T_k[k] = float(tokens[2])  # temperature the kth simulation was run at.\n",
    "# print(tokens[1])\n",
    "\n",
    "mbar_dats=[]\n",
    "mbar_dat=pd.DataFrame()\n",
    "\n",
    "for s in range(S):\n",
    "    if s > 1:\n",
    "        beta_k = 1.0/(kB*T_k)   # beta factor for the different temperatures\n",
    "        DifferentTemperatures = True\n",
    "        if (min(T_k) == max(T_k)):\n",
    "            DifferentTemperatures = False            # if all the temperatures are the same, then we don't have to read in energies.\n",
    "        # Read the simulation data\n",
    "        for k in range(K):\n",
    "            # Read torsion angle data.\n",
    "            #filename = ('step5.{:0>2d}.{}_pmfSetup.dat.z'.format(k,s))\n",
    "            filename = ('window_{}_rest.step_8.dat.z'.format(k))\n",
    "            print (\"Reading %s...\" % filename)\n",
    "            infile = open(filename, 'r')\n",
    "            lines = infile.readlines()\n",
    "            infile.close()\n",
    "            # Parse data.\n",
    "            n = 0\n",
    "            for line in lines:\n",
    "                if line[0] != 'c':\n",
    "                    tokens = line.split(\" \")\n",
    "                    try:\n",
    "                        chi_kn[k,n] = float(tokens[1]) # torsion angle\n",
    "                    except ValueError:\n",
    "                        chi_kn[k,n] = 2.5\n",
    "                    n += 1\n",
    "            N_k[k] = n\n",
    "\n",
    "\n",
    "            if (DifferentTemperatures):  # if different temperatures are specified the metadata file, \n",
    "                                         # then we need the energies to compute the PMF\n",
    "                # Read energies\n",
    "                filename = ('window_{}_rest.step_8.dat.z'.format(k))\n",
    "                print (\"Reading %s...\" % filename)\n",
    "                infile = open(filename, 'r')\n",
    "                lines = infile.readlines()\n",
    "                infile.close()\n",
    "                # Parse data.\n",
    "                n = 0\n",
    "                for line in lines:\n",
    "                    if line[0] != 'N':\n",
    "                        tokens = line.split(\",\")            \n",
    "                        u_kn[k,n] = beta_k[k] * (float(tokens[2]) - float(tokens[1])) # reduced potential energy without umbrella restraint\n",
    "                        n += 1\n",
    "\n",
    "            # Compute correlation times for potential energy and chi\n",
    "            # timeseries.  If the temperatures differ, use energies to determine samples; otherwise, use the cosine of chi\n",
    "            if (DifferentTemperatures):        \n",
    "                g_k[k] = timeseries.statisticalInefficiency(u_kn[k,:], u_kn[k,0:N_k[k]])\n",
    "                print (\"Correlation time for set %5d is %10.3f\" % (k,g_k[k]))\n",
    "                indices = timeseries.subsampleCorrelatedData(u_kn[k,0:N_k[k]])\n",
    "            else:\n",
    "                print(\"corr\",chi_kn[k,:], chi_kn[k,0:N_k[k]])\n",
    "                g_k[k] = timeseries.statisticalInefficiency(chi_kn[k,0:N_k[k]])\n",
    "                print (\"Correlation time for set %5d is %10.3f\" % (k,g_k[k]))\n",
    "                indices = timeseries.subsampleCorrelatedData(chi_kn[k,0:N_k[k]], g=g_k[k]) \n",
    "            # Subsample data.\n",
    "            print(\"number of uncorrelated frames\",len(indices))\n",
    "            N_k[k] = len(indices)\n",
    "            u_kn[k,0:N_k[k]] = u_kn[k,indices]\n",
    "            chi_kn[k,0:N_k[k]] = chi_kn[k,indices]\n",
    "\n",
    "        N_max = numpy.max(N_k) # shorten the array size\n",
    "        u_kln = numpy.zeros([K,K,N_max], numpy.float64) # u_kln[k,l,n] is the reduced potential energy of snapshot n from umbrella simulation k evaluated at umbrella l\n",
    "\n",
    "        # Set zero of u_kn -- this is arbitrary.\n",
    "        u_kn -= u_kn.min()\n",
    "        print(u_kn)\n",
    "        # Construct torsion bins\n",
    "        print (\"Binning data...\")\n",
    "        delta = (chi_max - chi_min) / float(nbins)\n",
    "        # compute bin centers\n",
    "        bin_center_i = numpy.zeros([nbins], numpy.float64)\n",
    "        for i in range(nbins):\n",
    "            bin_center_i[i] = chi_min + delta/2 + delta * i\n",
    "        # Bin data\n",
    "        bin_kn = numpy.zeros([K,N_max], numpy.int32)\n",
    "        for k in range(K):\n",
    "            for n in range(N_k[k]):\n",
    "                # Compute bin assignment.\n",
    "                bin_kn[k,n] = int((chi_kn[k,n] - chi_min) / delta)\n",
    "        print(\"done\")\n",
    "        print (\"Evaluating reduced potential energies...\")\n",
    "        for k in range(K):\n",
    "            for n in range(N_k[k]):\n",
    "                # Compute minimum-image torsion deviation from umbrella center l\n",
    "                dchi = chi_kn[k,n] - chi0_k\n",
    "\n",
    "                # Compute energy of snapshot n from simulation k in umbrella potential l\n",
    "                u_kln[k,:,n] = u_kn[k,n] + beta_k[k] * (K_k/2.0) * dchi**2\n",
    "\n",
    "        # Initialize MBAR.\n",
    "        print (\"Running MBAR...\")\n",
    "        mbar = pymbar.MBAR(u_kln, N_k, verbose = True, method = 'adaptive')\n",
    "\n",
    "        # Compute PMF in unbiased potential (in units of kT).\n",
    "        (f_i, df_i) = mbar.computePMF(u_kn, bin_kn, nbins)\n",
    "\n",
    "        # Write out PMF\n",
    "        print (\"PMF (in units of kT)\")\n",
    "        print (\"%8s %8s %8s\" % ('bin', 'f', 'df'))\n",
    "        for i in range(nbins):\n",
    "            print (\"%8.1f %8.3f %8.3f\" % (bin_center_i[i], f_i[i], df_i[i]))\n",
    "        mbar_dat['bin_center']=bin_center_i\n",
    "        mbar_dat['f_i']=f_i\n",
    "        mbar_dat['df_i']=df_i\n",
    "        mbar_dats.append(mbar_dat.copy())\n",
    "mbar_data=pd.concat(mbar_dats)\n",
    "mbar_data.head()\n",
    "\n",
    "mbar_data.to_csv(\"mbar_data.csv\",index=False)"
   ]
  },
  {
   "cell_type": "code",
   "execution_count": 96,
   "metadata": {},
   "outputs": [],
   "source": [
    "#%cd ~/work/charlie/etdm_water_octonol/pmf_setup/bigger_box4\n",
    "mbar_data_accum=pd.read_csv('mbar_data.csv')\n",
    "mbar_data_accum=mbar_data_accum.groupby(['bin_center']).mean()\n",
    "\n",
    "#mbar_data_accum.to_csv(\"mbar_data_accum.csv\")"
   ]
  },
  {
   "cell_type": "code",
   "execution_count": 99,
   "metadata": {},
   "outputs": [
    {
     "name": "stdout",
     "output_type": "stream",
     "text": [
      "            0         1   2         3   4\n",
      "795  26.69625  1.306226 NaN  0.001861 NaN\n",
      "796  26.76375  1.359961 NaN  0.001700 NaN\n",
      "797  26.83125  1.440507 NaN  0.001485 NaN\n",
      "798  26.89875  1.435851 NaN  0.001497 NaN\n",
      "799  26.96625  1.399365 NaN  0.001591 NaN\n"
     ]
    }
   ],
   "source": [
    "print (mbar_data_accum.tail())"
   ]
  },
  {
   "cell_type": "code",
   "execution_count": 7,
   "metadata": {},
   "outputs": [
    {
     "name": "stdout",
     "output_type": "stream",
     "text": [
      "     z_coor       pmf\n",
      "0   -27.965  1.395032\n",
      "1   -27.895  1.407571\n",
      "2   -27.825  1.554580\n",
      "3   -27.755  1.708866\n",
      "4   -27.685  1.888914\n",
      "..      ...       ...\n",
      "795  27.685  0.838250\n",
      "796  27.755  0.694709\n",
      "797  27.825  0.708089\n",
      "798  27.895  0.601741\n",
      "799  27.965  0.315914\n",
      "\n",
      "[800 rows x 2 columns]\n"
     ]
    },
    {
     "data": {
      "image/png": "[encoded data removed]",
      "text/plain": [
       "<Figure size 432x288 with 1 Axes>"
      ]
     },
     "metadata": {
      "needs_background": "light"
     },
     "output_type": "display_data"
    }
   ],
   "source": [
    "## rolling datapoint for wham ## \n",
    "#%cd ~/work/charlie/etdm_water_octonol/pmf_setup/bigger_box4\n",
    "wham_data_accum=pd.read_csv(\"wham.pmf\",delim_whitespace=True,header=None)\n",
    "\n",
    "\n",
    "wham_data_accum = {'z_coor':wham_data_accum[0],'pmf':wham_data_accum[1]}\n",
    "\n",
    "wham_data_accum=pd.DataFrame(wham_data_accum)\n",
    "print (wham_data_accum)\n",
    "wham_data_accum['pmf']=wham_data_accum['pmf'].rolling(window=50,min_periods=1).mean()\n",
    "wham_data_accum.to_csv('wham_pmf.csv',index=False)\n",
    "plt.plot(wham_data_accum.z_coor, wham_data_accum.pmf)\n",
    "plt.xlabel('Z coorindate ($\\AA$)')\n",
    "plt.ylabel('PMF (kcal/mol)')\n",
    "plt.title('US Nanotuble wham')\n",
    "plt.minorticks_on()\n",
    "plt.grid()\n",
    "# all_data=wham_data_accum.join(mbar_data_accum)\n",
    "\n",
    "# all_data.to_csv(\"eth_wham_mbar.csv\",index=False)"
   ]
  },
  {
   "cell_type": "code",
   "execution_count": 39,
   "metadata": {},
   "outputs": [
    {
     "data": {
      "image/png": "[encoded data removed]",
      "text/plain": [
       "<Figure size 432x288 with 1 Axes>"
      ]
     },
     "metadata": {
      "needs_background": "light"
     },
     "output_type": "display_data"
    }
   ],
   "source": [
    "t_wham=pd.read_csv('../t.pmf.csv',delim_whitespace=True, header=None)\n",
    "t_wham.columns=['bin_center','pmf']\n",
    "tt.head()\n",
    "#t_wham=t_wham.groupby(['bin_center']).mean()\n",
    "#t_wham['bin_center']=np.arange(-27,29,2)\n",
    "#t_wham\n",
    "plt.plot(t_wham.pmf)\n",
    "plt.grid()"
   ]
  },
  {
   "cell_type": "code",
   "execution_count": 4,
   "metadata": {},
   "outputs": [
    {
     "data": {
      "text/html": [
       "<div>\n",
       "<style scoped>\n",
       "    .dataframe tbody tr th:only-of-type {\n",
       "        vertical-align: middle;\n",
       "    }\n",
       "\n",
       "    .dataframe tbody tr th {\n",
       "        vertical-align: top;\n",
       "    }\n",
       "\n",
       "    .dataframe thead th {\n",
       "        text-align: right;\n",
       "    }\n",
       "</style>\n",
       "<table border=\"1\" class=\"dataframe\">\n",
       "  <thead>\n",
       "    <tr style=\"text-align: right;\">\n",
       "      <th></th>\n",
       "      <th>mbarx</th>\n",
       "      <th>f_i</th>\n",
       "      <th>df_i</th>\n",
       "    </tr>\n",
       "  </thead>\n",
       "  <tbody>\n",
       "    <tr>\n",
       "      <th>0</th>\n",
       "      <td>85.991071</td>\n",
       "      <td>0.958316</td>\n",
       "      <td>0.437591</td>\n",
       "    </tr>\n",
       "    <tr>\n",
       "      <th>1</th>\n",
       "      <td>87.973214</td>\n",
       "      <td>1.558388</td>\n",
       "      <td>0.445272</td>\n",
       "    </tr>\n",
       "    <tr>\n",
       "      <th>2</th>\n",
       "      <td>89.955357</td>\n",
       "      <td>1.588983</td>\n",
       "      <td>0.444714</td>\n",
       "    </tr>\n",
       "    <tr>\n",
       "      <th>3</th>\n",
       "      <td>91.937500</td>\n",
       "      <td>1.545733</td>\n",
       "      <td>0.443325</td>\n",
       "    </tr>\n",
       "    <tr>\n",
       "      <th>4</th>\n",
       "      <td>93.919643</td>\n",
       "      <td>1.559654</td>\n",
       "      <td>0.441466</td>\n",
       "    </tr>\n",
       "  </tbody>\n",
       "</table>\n",
       "</div>"
      ],
      "text/plain": [
       "       mbarx       f_i      df_i\n",
       "0  85.991071  0.958316  0.437591\n",
       "1  87.973214  1.558388  0.445272\n",
       "2  89.955357  1.588983  0.444714\n",
       "3  91.937500  1.545733  0.443325\n",
       "4  93.919643  1.559654  0.441466"
      ]
     },
     "execution_count": 4,
     "metadata": {},
     "output_type": "execute_result"
    }
   ],
   "source": [
    "mbar_data_accum.head()"
   ]
  },
  {
   "cell_type": "code",
   "execution_count": null,
   "metadata": {},
   "outputs": [],
   "source": []
  },
  {
   "cell_type": "code",
   "execution_count": null,
   "metadata": {},
   "outputs": [],
   "source": []
  }
 ],
 "metadata": {
  "kernelspec": {
   "display_name": "Python 3",
   "language": "python",
   "name": "python3"
  },
  "language_info": {
   "codemirror_mode": {
    "name": "ipython",
    "version": 3
   },
   "file_extension": ".py",
   "mimetype": "text/x-python",
   "name": "python",
   "nbconvert_exporter": "python",
   "pygments_lexer": "ipython3",
   "version": "3.8.5"
  }
 },
 "nbformat": 4,
 "nbformat_minor": 4
}
