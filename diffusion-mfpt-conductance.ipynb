{
 "cells": [
  {
   "cell_type": "code",
   "execution_count": 1,
   "metadata": {},
   "outputs": [],
   "source": [
    "import numpy as np\n",
    "import pandas as pd\n",
    "import matplotlib\n",
    "from matplotlib import pyplot as plt\n",
    "import tqdm\n",
    "import copy\n",
    "import gc\n",
    "import sys\n",
    "import os\n",
    "import f90nml\n",
    "import seaborn as sns\n",
    "\n",
    "import bokeh\n",
    "from bokeh.layouts import gridplot\n",
    "from bokeh.models import ColumnDataSource, CDSView, GroupFilter, HoverTool\n",
    "from bokeh.plotting import figure, show\n",
    "from bokeh.transform import factor_cmap\n",
    "from bokeh.palettes import Spectral11\n",
    "\n",
    "from bokeh.models.mappers import CategoricalColorMapper\n",
    "\n",
    "import ipywidgets as widgets\n",
    "from ipywidgets import interact, interact_manual\n",
    "\n",
    "import scipy as sp\n",
    "from scipy.sparse import linalg"
   ]
  },
  {
   "cell_type": "code",
   "execution_count": 157,
   "metadata": {
    "scrolled": true
   },
   "outputs": [
    {
     "name": "stdout",
     "output_type": "stream",
     "text": [
      "/data/yichun/nanotube_test/US/window00/step8_production.colvars.traj\n",
      "step8_window00.dat\n",
      "zautocorr 0.241573707260238\n",
      "/data/yichun/nanotube_test/US/window01/step8_production.colvars.traj\n",
      "step8_window01.dat\n",
      "zautocorr 0.236186081964792\n",
      "/data/yichun/nanotube_test/US/window02/step8_production.colvars.traj\n",
      "step8_window02.dat\n",
      "zautocorr 0.241579893724605\n",
      "/data/yichun/nanotube_test/US/window03/step8_production.colvars.traj\n",
      "step8_window03.dat\n",
      "zautocorr 0.236562398676786\n",
      "/data/yichun/nanotube_test/US/window04/step8_production.colvars.traj\n",
      "step8_window04.dat\n",
      "zautocorr 0.241489245818511\n",
      "/data/yichun/nanotube_test/US/window05/step8_production.colvars.traj\n",
      "step8_window05.dat\n",
      "zautocorr 0.238926037329617\n",
      "/data/yichun/nanotube_test/US/window06/step8_production.colvars.traj\n",
      "step8_window06.dat\n",
      "zautocorr 0.227822135246959\n",
      "/data/yichun/nanotube_test/US/window07/step8_production.colvars.traj\n",
      "step8_window07.dat\n",
      "zautocorr 0.236962317121552\n",
      "/data/yichun/nanotube_test/US/window08/step8_production.colvars.traj\n",
      "step8_window08.dat\n",
      "zautocorr 0.225114138070689\n",
      "/data/yichun/nanotube_test/US/window09/step8_production.colvars.traj\n",
      "step8_window09.dat\n",
      "zautocorr 0.247902831821371\n",
      "/data/yichun/nanotube_test/US/window10/step8_production.colvars.traj\n",
      "step8_window10.dat\n",
      "zautocorr 0.254170710102741\n",
      "/data/yichun/nanotube_test/US/window11/step8_production.colvars.traj\n",
      "step8_window11.dat\n",
      "zautocorr 0.270856450197341\n",
      "/data/yichun/nanotube_test/US/window12/step8_production.colvars.traj\n",
      "step8_window12.dat\n",
      "zautocorr 0.23770692330766\n",
      "/data/yichun/nanotube_test/US/window13/step8_production.colvars.traj\n",
      "step8_window13.dat\n",
      "zautocorr 0.241077805067252\n",
      "/data/yichun/nanotube_test/US/window14/step8_production.colvars.traj\n",
      "step8_window14.dat\n",
      "zautocorr 0.241961897851319\n",
      "/data/yichun/nanotube_test/US/window15/step8_production.colvars.traj\n",
      "step8_window15.dat\n",
      "zautocorr 0.237824591644706\n",
      "/data/yichun/nanotube_test/US/window16/step8_production.colvars.traj\n",
      "step8_window16.dat\n",
      "zautocorr 0.267844165668955\n",
      "/data/yichun/nanotube_test/US/window17/step8_production.colvars.traj\n",
      "step8_window17.dat\n",
      "zautocorr 0.257296432966735\n",
      "/data/yichun/nanotube_test/US/window18/step8_production.colvars.traj\n",
      "step8_window18.dat\n",
      "zautocorr 0.245493312397703\n",
      "/data/yichun/nanotube_test/US/window19/step8_production.colvars.traj\n",
      "step8_window19.dat\n",
      "zautocorr 0.227443599360223\n",
      "/data/yichun/nanotube_test/US/window20/step8_production.colvars.traj\n",
      "step8_window20.dat\n",
      "zautocorr 0.240709805766807\n",
      "/data/yichun/nanotube_test/US/window21/step8_production.colvars.traj\n",
      "step8_window21.dat\n",
      "zautocorr 0.230417386651487\n",
      "/data/yichun/nanotube_test/US/window22/step8_production.colvars.traj\n",
      "step8_window22.dat\n",
      "zautocorr 0.237288515405263\n",
      "/data/yichun/nanotube_test/US/window23/step8_production.colvars.traj\n",
      "step8_window23.dat\n",
      "zautocorr 0.235034972394711\n",
      "/data/yichun/nanotube_test/US/window24/step8_production.colvars.traj\n",
      "step8_window24.dat\n",
      "zautocorr 0.240234517364174\n",
      "/data/yichun/nanotube_test/US/window25/step8_production.colvars.traj\n",
      "step8_window25.dat\n",
      "zautocorr 0.240168786356232\n",
      "/data/yichun/nanotube_test/US/window26/step8_production.colvars.traj\n",
      "step8_window26.dat\n",
      "zautocorr 0.231358353026457\n",
      "/data/yichun/nanotube_test/US/window27/step8_production.colvars.traj\n",
      "step8_window27.dat\n",
      "zautocorr 0.237807923848276\n"
     ]
    }
   ],
   "source": [
    "# Read in CNT US data and remove # lines using sed, run timecorr_z.pl to get corrtime data\n",
    "# For timecorr_z.pl, see Position-dependent diffusion coefficient of ions section at DOI: 10.1021/jp906791b\n",
    "\n",
    "dataDir='/data/yichun/nanotube_test/US/'\n",
    "filename='/step8_production.colvars.traj'\n",
    "for win in np.arange(0,28,1):\n",
    "    Files='/'.join([dataDir+'window'+'%02g'%win+filename])\n",
    "    print(Files)\n",
    "    Out='step8_window'+'%02g'%win+'.dat'\n",
    "    print(Out)\n",
    "    !sed '/#/d' $Files > /data/lyna/CNT/US-step9/$Out\n",
    "    !./timecorr_z.pl /data/lyna/CNT/US-step9/$Out\n"
   ]
  },
  {
   "cell_type": "code",
   "execution_count": 158,
   "metadata": {
    "scrolled": true
   },
   "outputs": [
    {
     "name": "stdout",
     "output_type": "stream",
     "text": [
      "/data/lyna/CNT/US-step9/step8_window00.dat\n",
      "/data/lyna/CNT/US-step9/step8_window01.dat\n",
      "/data/lyna/CNT/US-step9/step8_window02.dat\n",
      "/data/lyna/CNT/US-step9/step8_window03.dat\n",
      "/data/lyna/CNT/US-step9/step8_window04.dat\n",
      "/data/lyna/CNT/US-step9/step8_window05.dat\n",
      "/data/lyna/CNT/US-step9/step8_window06.dat\n",
      "/data/lyna/CNT/US-step9/step8_window07.dat\n",
      "/data/lyna/CNT/US-step9/step8_window08.dat\n",
      "/data/lyna/CNT/US-step9/step8_window09.dat\n",
      "/data/lyna/CNT/US-step9/step8_window10.dat\n",
      "/data/lyna/CNT/US-step9/step8_window11.dat\n",
      "/data/lyna/CNT/US-step9/step8_window12.dat\n",
      "/data/lyna/CNT/US-step9/step8_window13.dat\n",
      "/data/lyna/CNT/US-step9/step8_window14.dat\n",
      "/data/lyna/CNT/US-step9/step8_window15.dat\n",
      "/data/lyna/CNT/US-step9/step8_window16.dat\n",
      "/data/lyna/CNT/US-step9/step8_window17.dat\n",
      "/data/lyna/CNT/US-step9/step8_window18.dat\n",
      "/data/lyna/CNT/US-step9/step8_window19.dat\n",
      "/data/lyna/CNT/US-step9/step8_window20.dat\n",
      "/data/lyna/CNT/US-step9/step8_window21.dat\n",
      "/data/lyna/CNT/US-step9/step8_window22.dat\n",
      "/data/lyna/CNT/US-step9/step8_window23.dat\n",
      "/data/lyna/CNT/US-step9/step8_window24.dat\n",
      "/data/lyna/CNT/US-step9/step8_window25.dat\n",
      "/data/lyna/CNT/US-step9/step8_window26.dat\n",
      "/data/lyna/CNT/US-step9/step8_window27.dat\n"
     ]
    },
    {
     "data": {
      "text/html": [
       "<div>\n",
       "<style scoped>\n",
       "    .dataframe tbody tr th:only-of-type {\n",
       "        vertical-align: middle;\n",
       "    }\n",
       "\n",
       "    .dataframe tbody tr th {\n",
       "        vertical-align: top;\n",
       "    }\n",
       "\n",
       "    .dataframe thead th {\n",
       "        text-align: right;\n",
       "    }\n",
       "</style>\n",
       "<table border=\"1\" class=\"dataframe\">\n",
       "  <thead>\n",
       "    <tr style=\"text-align: right;\">\n",
       "      <th></th>\n",
       "      <th>fs</th>\n",
       "      <th>z</th>\n",
       "      <th>xy</th>\n",
       "      <th>win</th>\n",
       "    </tr>\n",
       "  </thead>\n",
       "  <tbody>\n",
       "    <tr>\n",
       "      <th>0</th>\n",
       "      <td>0</td>\n",
       "      <td>-23.582846</td>\n",
       "      <td>13.791770</td>\n",
       "      <td>0</td>\n",
       "    </tr>\n",
       "    <tr>\n",
       "      <th>1</th>\n",
       "      <td>500</td>\n",
       "      <td>-26.578419</td>\n",
       "      <td>4.391551</td>\n",
       "      <td>0</td>\n",
       "    </tr>\n",
       "    <tr>\n",
       "      <th>2</th>\n",
       "      <td>1000</td>\n",
       "      <td>-28.339113</td>\n",
       "      <td>4.401325</td>\n",
       "      <td>0</td>\n",
       "    </tr>\n",
       "    <tr>\n",
       "      <th>3</th>\n",
       "      <td>1500</td>\n",
       "      <td>-27.197093</td>\n",
       "      <td>4.246170</td>\n",
       "      <td>0</td>\n",
       "    </tr>\n",
       "    <tr>\n",
       "      <th>4</th>\n",
       "      <td>2000</td>\n",
       "      <td>-25.244133</td>\n",
       "      <td>4.183664</td>\n",
       "      <td>0</td>\n",
       "    </tr>\n",
       "    <tr>\n",
       "      <th>...</th>\n",
       "      <td>...</td>\n",
       "      <td>...</td>\n",
       "      <td>...</td>\n",
       "      <td>...</td>\n",
       "    </tr>\n",
       "    <tr>\n",
       "      <th>39996</th>\n",
       "      <td>19998000</td>\n",
       "      <td>27.152805</td>\n",
       "      <td>3.028686</td>\n",
       "      <td>27</td>\n",
       "    </tr>\n",
       "    <tr>\n",
       "      <th>39997</th>\n",
       "      <td>19998500</td>\n",
       "      <td>27.019971</td>\n",
       "      <td>3.715022</td>\n",
       "      <td>27</td>\n",
       "    </tr>\n",
       "    <tr>\n",
       "      <th>39998</th>\n",
       "      <td>19999000</td>\n",
       "      <td>26.841581</td>\n",
       "      <td>4.760709</td>\n",
       "      <td>27</td>\n",
       "    </tr>\n",
       "    <tr>\n",
       "      <th>39999</th>\n",
       "      <td>19999500</td>\n",
       "      <td>27.210713</td>\n",
       "      <td>4.971762</td>\n",
       "      <td>27</td>\n",
       "    </tr>\n",
       "    <tr>\n",
       "      <th>40000</th>\n",
       "      <td>20000000</td>\n",
       "      <td>27.451649</td>\n",
       "      <td>5.511107</td>\n",
       "      <td>27</td>\n",
       "    </tr>\n",
       "  </tbody>\n",
       "</table>\n",
       "<p>1120028 rows × 4 columns</p>\n",
       "</div>"
      ],
      "text/plain": [
       "             fs          z         xy  win\n",
       "0             0 -23.582846  13.791770    0\n",
       "1           500 -26.578419   4.391551    0\n",
       "2          1000 -28.339113   4.401325    0\n",
       "3          1500 -27.197093   4.246170    0\n",
       "4          2000 -25.244133   4.183664    0\n",
       "...         ...        ...        ...  ...\n",
       "39996  19998000  27.152805   3.028686   27\n",
       "39997  19998500  27.019971   3.715022   27\n",
       "39998  19999000  26.841581   4.760709   27\n",
       "39999  19999500  27.210713   4.971762   27\n",
       "40000  20000000  27.451649   5.511107   27\n",
       "\n",
       "[1120028 rows x 4 columns]"
      ]
     },
     "execution_count": 158,
     "metadata": {},
     "output_type": "execute_result"
    }
   ],
   "source": [
    "# First check the z coordinate data of all windows by plotting histograms\n",
    "Zdata=[]\n",
    "tempTable=[]\n",
    "for win in np.arange(0,28,1):\n",
    "    Files='/'.join(['/data/lyna/CNT/US-step9/'+'step8_window'+'%02g'%win+'.dat'])\n",
    "    print(Files)\n",
    "    tempTable=pd.read_csv(Files,delim_whitespace=True,names=[\"fs\", \"z\",\"xy\"])\n",
    "    tempTable['win']=win\n",
    "    Zdata.append(copy.deepcopy(tempTable))\n",
    "    \n",
    "Zdata=pd.concat(Zdata)\n",
    "Zdata"
   ]
  },
  {
   "cell_type": "code",
   "execution_count": 448,
   "metadata": {},
   "outputs": [
    {
     "data": {
      "text/plain": [
       "<AxesSubplot:xlabel='z', ylabel='Count'>"
      ]
     },
     "execution_count": 448,
     "metadata": {},
     "output_type": "execute_result"
    },
    {
     "data": {
      "image/png": "[encoded data removed]",
      "text/plain": [
       "<Figure size 720x144 with 1 Axes>"
      ]
     },
     "metadata": {
      "needs_background": "light"
     },
     "output_type": "display_data"
    }
   ],
   "source": [
    "plt.figure(figsize=(10,2))\n",
    "sns.set_context(\"paper\", font_scale=2)\n",
    "#a4_dims = (30, 10)\n",
    "#fig, ax = plt.subplots(figsize=a4_dims)\n",
    "sns.histplot(x='z', hue='win',data=Zdata, legend=False, binwidth=0.125)"
   ]
  },
  {
   "cell_type": "code",
   "execution_count": 160,
   "metadata": {
    "scrolled": true
   },
   "outputs": [
    {
     "name": "stdout",
     "output_type": "stream",
     "text": [
      "/data/lyna/CNT/US-step9/step8_window00.dat.corrtime\n",
      "/data/lyna/CNT/US-step9/step8_window01.dat.corrtime\n",
      "/data/lyna/CNT/US-step9/step8_window02.dat.corrtime\n",
      "/data/lyna/CNT/US-step9/step8_window03.dat.corrtime\n",
      "/data/lyna/CNT/US-step9/step8_window04.dat.corrtime\n",
      "/data/lyna/CNT/US-step9/step8_window05.dat.corrtime\n",
      "/data/lyna/CNT/US-step9/step8_window06.dat.corrtime\n",
      "/data/lyna/CNT/US-step9/step8_window07.dat.corrtime\n",
      "/data/lyna/CNT/US-step9/step8_window08.dat.corrtime\n",
      "/data/lyna/CNT/US-step9/step8_window09.dat.corrtime\n",
      "/data/lyna/CNT/US-step9/step8_window10.dat.corrtime\n",
      "/data/lyna/CNT/US-step9/step8_window11.dat.corrtime\n",
      "/data/lyna/CNT/US-step9/step8_window12.dat.corrtime\n",
      "/data/lyna/CNT/US-step9/step8_window13.dat.corrtime\n",
      "/data/lyna/CNT/US-step9/step8_window14.dat.corrtime\n",
      "/data/lyna/CNT/US-step9/step8_window15.dat.corrtime\n",
      "/data/lyna/CNT/US-step9/step8_window16.dat.corrtime\n",
      "/data/lyna/CNT/US-step9/step8_window17.dat.corrtime\n",
      "/data/lyna/CNT/US-step9/step8_window18.dat.corrtime\n",
      "/data/lyna/CNT/US-step9/step8_window19.dat.corrtime\n",
      "/data/lyna/CNT/US-step9/step8_window20.dat.corrtime\n",
      "/data/lyna/CNT/US-step9/step8_window21.dat.corrtime\n",
      "/data/lyna/CNT/US-step9/step8_window22.dat.corrtime\n",
      "/data/lyna/CNT/US-step9/step8_window23.dat.corrtime\n",
      "/data/lyna/CNT/US-step9/step8_window24.dat.corrtime\n",
      "/data/lyna/CNT/US-step9/step8_window25.dat.corrtime\n",
      "/data/lyna/CNT/US-step9/step8_window26.dat.corrtime\n",
      "/data/lyna/CNT/US-step9/step8_window27.dat.corrtime\n"
     ]
    },
    {
     "data": {
      "text/html": [
       "<div>\n",
       "<style scoped>\n",
       "    .dataframe tbody tr th:only-of-type {\n",
       "        vertical-align: middle;\n",
       "    }\n",
       "\n",
       "    .dataframe tbody tr th {\n",
       "        vertical-align: top;\n",
       "    }\n",
       "\n",
       "    .dataframe thead th {\n",
       "        text-align: right;\n",
       "    }\n",
       "</style>\n",
       "<table border=\"1\" class=\"dataframe\">\n",
       "  <thead>\n",
       "    <tr style=\"text-align: right;\">\n",
       "      <th></th>\n",
       "      <th>time</th>\n",
       "      <th>corr</th>\n",
       "      <th>autocorr</th>\n",
       "      <th>win</th>\n",
       "    </tr>\n",
       "  </thead>\n",
       "  <tbody>\n",
       "    <tr>\n",
       "      <th>0</th>\n",
       "      <td>0.0</td>\n",
       "      <td>1.000000</td>\n",
       "      <td>0.241574</td>\n",
       "      <td>0</td>\n",
       "    </tr>\n",
       "    <tr>\n",
       "      <th>1</th>\n",
       "      <td>0.5</td>\n",
       "      <td>0.554546</td>\n",
       "      <td>0.241574</td>\n",
       "      <td>0</td>\n",
       "    </tr>\n",
       "    <tr>\n",
       "      <th>2</th>\n",
       "      <td>1.0</td>\n",
       "      <td>0.323490</td>\n",
       "      <td>0.241574</td>\n",
       "      <td>0</td>\n",
       "    </tr>\n",
       "    <tr>\n",
       "      <th>3</th>\n",
       "      <td>1.5</td>\n",
       "      <td>0.199123</td>\n",
       "      <td>0.241574</td>\n",
       "      <td>0</td>\n",
       "    </tr>\n",
       "    <tr>\n",
       "      <th>4</th>\n",
       "      <td>2.0</td>\n",
       "      <td>0.125486</td>\n",
       "      <td>0.241574</td>\n",
       "      <td>0</td>\n",
       "    </tr>\n",
       "    <tr>\n",
       "      <th>...</th>\n",
       "      <td>...</td>\n",
       "      <td>...</td>\n",
       "      <td>...</td>\n",
       "      <td>...</td>\n",
       "    </tr>\n",
       "    <tr>\n",
       "      <th>95</th>\n",
       "      <td>47.5</td>\n",
       "      <td>0.007686</td>\n",
       "      <td>0.237808</td>\n",
       "      <td>27</td>\n",
       "    </tr>\n",
       "    <tr>\n",
       "      <th>96</th>\n",
       "      <td>48.0</td>\n",
       "      <td>0.010239</td>\n",
       "      <td>0.237808</td>\n",
       "      <td>27</td>\n",
       "    </tr>\n",
       "    <tr>\n",
       "      <th>97</th>\n",
       "      <td>48.5</td>\n",
       "      <td>0.005891</td>\n",
       "      <td>0.237808</td>\n",
       "      <td>27</td>\n",
       "    </tr>\n",
       "    <tr>\n",
       "      <th>98</th>\n",
       "      <td>49.0</td>\n",
       "      <td>0.006361</td>\n",
       "      <td>0.237808</td>\n",
       "      <td>27</td>\n",
       "    </tr>\n",
       "    <tr>\n",
       "      <th>99</th>\n",
       "      <td>49.5</td>\n",
       "      <td>0.004633</td>\n",
       "      <td>0.237808</td>\n",
       "      <td>27</td>\n",
       "    </tr>\n",
       "  </tbody>\n",
       "</table>\n",
       "<p>2800 rows × 4 columns</p>\n",
       "</div>"
      ],
      "text/plain": [
       "    time      corr  autocorr  win\n",
       "0    0.0  1.000000  0.241574    0\n",
       "1    0.5  0.554546  0.241574    0\n",
       "2    1.0  0.323490  0.241574    0\n",
       "3    1.5  0.199123  0.241574    0\n",
       "4    2.0  0.125486  0.241574    0\n",
       "..   ...       ...       ...  ...\n",
       "95  47.5  0.007686  0.237808   27\n",
       "96  48.0  0.010239  0.237808   27\n",
       "97  48.5  0.005891  0.237808   27\n",
       "98  49.0  0.006361  0.237808   27\n",
       "99  49.5  0.004633  0.237808   27\n",
       "\n",
       "[2800 rows x 4 columns]"
      ]
     },
     "execution_count": 160,
     "metadata": {},
     "output_type": "execute_result"
    }
   ],
   "source": [
    "corrTime=[]\n",
    "for win in np.arange(0,28,1):\n",
    "    corrFiles='/'.join(['/data/lyna/CNT/US-step9/'+'step8_window'+'%02g'%win+'.dat.corrtime'])\n",
    "    print(corrFiles)\n",
    "    tempTable=pd.read_csv(corrFiles,delim_whitespace=True,names=[\"time\",\"corr\",\"autocorr\"])\n",
    "    tempTable['win']=win\n",
    "    corrTime.append(copy.deepcopy(tempTable))\n",
    "    \n",
    "corrTime=pd.concat(corrTime)\n",
    "corrTime"
   ]
  },
  {
   "cell_type": "code",
   "execution_count": 508,
   "metadata": {},
   "outputs": [
    {
     "data": {
      "text/html": [
       "<div>\n",
       "<style scoped>\n",
       "    .dataframe tbody tr th:only-of-type {\n",
       "        vertical-align: middle;\n",
       "    }\n",
       "\n",
       "    .dataframe tbody tr th {\n",
       "        vertical-align: top;\n",
       "    }\n",
       "\n",
       "    .dataframe thead th {\n",
       "        text-align: right;\n",
       "    }\n",
       "</style>\n",
       "<table border=\"1\" class=\"dataframe\">\n",
       "  <thead>\n",
       "    <tr style=\"text-align: right;\">\n",
       "      <th></th>\n",
       "      <th>time</th>\n",
       "      <th>corr</th>\n",
       "      <th>autocorr</th>\n",
       "      <th>win</th>\n",
       "      <th>index</th>\n",
       "    </tr>\n",
       "  </thead>\n",
       "  <tbody>\n",
       "    <tr>\n",
       "      <th>0</th>\n",
       "      <td>0.0</td>\n",
       "      <td>1.000000</td>\n",
       "      <td>0.241574</td>\n",
       "      <td>0</td>\n",
       "      <td>0</td>\n",
       "    </tr>\n",
       "    <tr>\n",
       "      <th>1</th>\n",
       "      <td>0.5</td>\n",
       "      <td>0.554546</td>\n",
       "      <td>0.241574</td>\n",
       "      <td>0</td>\n",
       "      <td>0</td>\n",
       "    </tr>\n",
       "    <tr>\n",
       "      <th>2</th>\n",
       "      <td>1.0</td>\n",
       "      <td>0.323490</td>\n",
       "      <td>0.241574</td>\n",
       "      <td>0</td>\n",
       "      <td>0</td>\n",
       "    </tr>\n",
       "    <tr>\n",
       "      <th>3</th>\n",
       "      <td>1.5</td>\n",
       "      <td>0.199123</td>\n",
       "      <td>0.241574</td>\n",
       "      <td>0</td>\n",
       "      <td>0</td>\n",
       "    </tr>\n",
       "    <tr>\n",
       "      <th>4</th>\n",
       "      <td>2.0</td>\n",
       "      <td>0.125486</td>\n",
       "      <td>0.241574</td>\n",
       "      <td>0</td>\n",
       "      <td>0</td>\n",
       "    </tr>\n",
       "    <tr>\n",
       "      <th>...</th>\n",
       "      <td>...</td>\n",
       "      <td>...</td>\n",
       "      <td>...</td>\n",
       "      <td>...</td>\n",
       "      <td>...</td>\n",
       "    </tr>\n",
       "    <tr>\n",
       "      <th>95</th>\n",
       "      <td>47.5</td>\n",
       "      <td>0.007686</td>\n",
       "      <td>0.237808</td>\n",
       "      <td>27</td>\n",
       "      <td>0</td>\n",
       "    </tr>\n",
       "    <tr>\n",
       "      <th>96</th>\n",
       "      <td>48.0</td>\n",
       "      <td>0.010239</td>\n",
       "      <td>0.237808</td>\n",
       "      <td>27</td>\n",
       "      <td>0</td>\n",
       "    </tr>\n",
       "    <tr>\n",
       "      <th>97</th>\n",
       "      <td>48.5</td>\n",
       "      <td>0.005891</td>\n",
       "      <td>0.237808</td>\n",
       "      <td>27</td>\n",
       "      <td>0</td>\n",
       "    </tr>\n",
       "    <tr>\n",
       "      <th>98</th>\n",
       "      <td>49.0</td>\n",
       "      <td>0.006361</td>\n",
       "      <td>0.237808</td>\n",
       "      <td>27</td>\n",
       "      <td>0</td>\n",
       "    </tr>\n",
       "    <tr>\n",
       "      <th>99</th>\n",
       "      <td>49.5</td>\n",
       "      <td>0.004633</td>\n",
       "      <td>0.237808</td>\n",
       "      <td>27</td>\n",
       "      <td>0</td>\n",
       "    </tr>\n",
       "  </tbody>\n",
       "</table>\n",
       "<p>2800 rows × 5 columns</p>\n",
       "</div>"
      ],
      "text/plain": [
       "    time      corr  autocorr  win  index\n",
       "0    0.0  1.000000  0.241574    0      0\n",
       "1    0.5  0.554546  0.241574    0      0\n",
       "2    1.0  0.323490  0.241574    0      0\n",
       "3    1.5  0.199123  0.241574    0      0\n",
       "4    2.0  0.125486  0.241574    0      0\n",
       "..   ...       ...       ...  ...    ...\n",
       "95  47.5  0.007686  0.237808   27      0\n",
       "96  48.0  0.010239  0.237808   27      0\n",
       "97  48.5  0.005891  0.237808   27      0\n",
       "98  49.0  0.006361  0.237808   27      0\n",
       "99  49.5  0.004633  0.237808   27      0\n",
       "\n",
       "[2800 rows x 5 columns]"
      ]
     },
     "execution_count": 508,
     "metadata": {},
     "output_type": "execute_result"
    }
   ],
   "source": [
    "corrTime"
   ]
  },
  {
   "cell_type": "code",
   "execution_count": 509,
   "metadata": {
    "scrolled": true
   },
   "outputs": [
    {
     "data": {
      "text/html": [
       "<div>\n",
       "<style scoped>\n",
       "    .dataframe tbody tr th:only-of-type {\n",
       "        vertical-align: middle;\n",
       "    }\n",
       "\n",
       "    .dataframe tbody tr th {\n",
       "        vertical-align: top;\n",
       "    }\n",
       "\n",
       "    .dataframe thead th {\n",
       "        text-align: right;\n",
       "    }\n",
       "</style>\n",
       "<table border=\"1\" class=\"dataframe\">\n",
       "  <thead>\n",
       "    <tr style=\"text-align: right;\">\n",
       "      <th></th>\n",
       "      <th>time</th>\n",
       "      <th>corr</th>\n",
       "      <th>autocorr</th>\n",
       "      <th>win</th>\n",
       "      <th>index</th>\n",
       "    </tr>\n",
       "  </thead>\n",
       "  <tbody>\n",
       "    <tr>\n",
       "      <th>0</th>\n",
       "      <td>0.0</td>\n",
       "      <td>1.000000</td>\n",
       "      <td>0.241574</td>\n",
       "      <td>0</td>\n",
       "      <td>out</td>\n",
       "    </tr>\n",
       "    <tr>\n",
       "      <th>1</th>\n",
       "      <td>0.5</td>\n",
       "      <td>0.554546</td>\n",
       "      <td>0.241574</td>\n",
       "      <td>0</td>\n",
       "      <td>out</td>\n",
       "    </tr>\n",
       "    <tr>\n",
       "      <th>2</th>\n",
       "      <td>1.0</td>\n",
       "      <td>0.323490</td>\n",
       "      <td>0.241574</td>\n",
       "      <td>0</td>\n",
       "      <td>out</td>\n",
       "    </tr>\n",
       "    <tr>\n",
       "      <th>3</th>\n",
       "      <td>1.5</td>\n",
       "      <td>0.199123</td>\n",
       "      <td>0.241574</td>\n",
       "      <td>0</td>\n",
       "      <td>out</td>\n",
       "    </tr>\n",
       "    <tr>\n",
       "      <th>4</th>\n",
       "      <td>2.0</td>\n",
       "      <td>0.125486</td>\n",
       "      <td>0.241574</td>\n",
       "      <td>0</td>\n",
       "      <td>out</td>\n",
       "    </tr>\n",
       "    <tr>\n",
       "      <th>...</th>\n",
       "      <td>...</td>\n",
       "      <td>...</td>\n",
       "      <td>...</td>\n",
       "      <td>...</td>\n",
       "      <td>...</td>\n",
       "    </tr>\n",
       "    <tr>\n",
       "      <th>95</th>\n",
       "      <td>47.5</td>\n",
       "      <td>0.007686</td>\n",
       "      <td>0.237808</td>\n",
       "      <td>27</td>\n",
       "      <td>out</td>\n",
       "    </tr>\n",
       "    <tr>\n",
       "      <th>96</th>\n",
       "      <td>48.0</td>\n",
       "      <td>0.010239</td>\n",
       "      <td>0.237808</td>\n",
       "      <td>27</td>\n",
       "      <td>out</td>\n",
       "    </tr>\n",
       "    <tr>\n",
       "      <th>97</th>\n",
       "      <td>48.5</td>\n",
       "      <td>0.005891</td>\n",
       "      <td>0.237808</td>\n",
       "      <td>27</td>\n",
       "      <td>out</td>\n",
       "    </tr>\n",
       "    <tr>\n",
       "      <th>98</th>\n",
       "      <td>49.0</td>\n",
       "      <td>0.006361</td>\n",
       "      <td>0.237808</td>\n",
       "      <td>27</td>\n",
       "      <td>out</td>\n",
       "    </tr>\n",
       "    <tr>\n",
       "      <th>99</th>\n",
       "      <td>49.5</td>\n",
       "      <td>0.004633</td>\n",
       "      <td>0.237808</td>\n",
       "      <td>27</td>\n",
       "      <td>out</td>\n",
       "    </tr>\n",
       "  </tbody>\n",
       "</table>\n",
       "<p>2800 rows × 5 columns</p>\n",
       "</div>"
      ],
      "text/plain": [
       "    time      corr  autocorr  win index\n",
       "0    0.0  1.000000  0.241574    0   out\n",
       "1    0.5  0.554546  0.241574    0   out\n",
       "2    1.0  0.323490  0.241574    0   out\n",
       "3    1.5  0.199123  0.241574    0   out\n",
       "4    2.0  0.125486  0.241574    0   out\n",
       "..   ...       ...       ...  ...   ...\n",
       "95  47.5  0.007686  0.237808   27   out\n",
       "96  48.0  0.010239  0.237808   27   out\n",
       "97  48.5  0.005891  0.237808   27   out\n",
       "98  49.0  0.006361  0.237808   27   out\n",
       "99  49.5  0.004633  0.237808   27   out\n",
       "\n",
       "[2800 rows x 5 columns]"
      ]
     },
     "execution_count": 509,
     "metadata": {},
     "output_type": "execute_result"
    }
   ],
   "source": [
    "conditions=[(corrTime.win<=8),(corrTime.win>8)&(corrTime.win<19),(corrTime.win>=19)]\n",
    "choices=['out','in','out']\n",
    "corrTime['index']=np.select(conditions, choices)\n",
    "corrTime"
   ]
  },
  {
   "cell_type": "code",
   "execution_count": 516,
   "metadata": {},
   "outputs": [
    {
     "data": {
      "text/plain": [
       "<matplotlib.legend.Legend at 0x7ffe8d802a10>"
      ]
     },
     "execution_count": 516,
     "metadata": {},
     "output_type": "execute_result"
    },
    {
     "data": {
      "image/png": "[encoded data removed]",
      "text/plain": [
       "<Figure size 360x288 with 1 Axes>"
      ]
     },
     "metadata": {
      "needs_background": "light"
     },
     "output_type": "display_data"
    }
   ],
   "source": [
    "plt.figure(figsize=(5,4))\n",
    "sns.set_context(\"paper\", font_scale=2)\n",
    "sns.lineplot(x=corrTime[\"time\"], y=corrTime[\"corr\"], hue=corrTime['win'])\n",
    "plt.legend(bbox_to_anchor=(1.05, 1), loc=2, borderaxespad=0.)"
   ]
  },
  {
   "cell_type": "code",
   "execution_count": 14,
   "metadata": {},
   "outputs": [
    {
     "data": {
      "image/png": "[encoded data removed]",
      "text/plain": [
       "<Figure size 720x360 with 1 Axes>"
      ]
     },
     "metadata": {
      "needs_background": "light"
     },
     "output_type": "display_data"
    }
   ],
   "source": [
    "# tempTable=[]\n",
    "# DiffTable=[]\n",
    "# for group in corrTime.groupby(\"win\"):\n",
    "#     plotName,plotData=group\n",
    "#     Diff=plotData[\"autocorr\"][0]/np.trapz(y=plotData[\"corr\"],x=plotData[\"time\"])\n",
    "#     tempTable.append(Diff)\n",
    "#     DiffTable=pd.DataFrame(tempTable, columns=['diff'])\n",
    "# DiffTable['win']=np.arange(0,28,1)   \n",
    "#print(DiffTable)\n",
    "# DiffTable.to_csv(\"step8_diffusionCoef.dat\", index=False)\n",
    "\n",
    "plt.figure(figsize=(10,5))\n",
    "sns.set_context(\"paper\", font_scale=2)\n",
    "DiffTable2=pd.read_csv(\"step9_diffusionCoef.dat\")\n",
    "DiffTable=pd.read_csv(\"step8_diffusionCoef.dat\")\n",
    "sns.lineplot(x=np.linspace(-28,28,28), y=DiffTable['diff'], linewidth=4,alpha=0.1)\n",
    "sns.lineplot(x=np.linspace(-28,28,28), y=DiffTable2['diff'], linewidth=4,alpha=0.1)\n",
    "\n",
    "avg=[]\n",
    "avg=pd.DataFrame(0.5*(DiffTable['diff']+DiffTable2['diff']))\n",
    "rev=avg.loc[::-1].reset_index(drop=True)\n",
    "sym=0.5*(avg+rev)\n",
    "\n",
    "sns.lineplot(x=np.linspace(-28,28,28), y=sym['diff'],linewidth=4,marker=\"o\")\n",
    "\n",
    "sym.to_csv(\"sym_diffusionCoef.dat\", index=False)\n",
    "\n",
    "#plt.xlabel(\"CNT US window\")\n",
    "#plt.ylabel(\"D(AA/ps)\")\n",
    "#plt.grid()\n",
    "\n",
    "    "
   ]
  },
  {
   "cell_type": "code",
   "execution_count": 471,
   "metadata": {},
   "outputs": [
    {
     "name": "stdout",
     "output_type": "stream",
     "text": [
      "wavelength($\\AA$)\n"
     ]
    }
   ],
   "source": []
  },
  {
   "cell_type": "code",
   "execution_count": 61,
   "metadata": {},
   "outputs": [
    {
     "name": "stdout",
     "output_type": "stream",
     "text": [
      "          z       pmf  pmfError\n",
      "0   -27.965  0.649697  0.248896\n",
      "1   -27.895  1.024074  0.251633\n",
      "2   -27.825  0.823582  0.246422\n",
      "3   -27.755  0.846739  0.245156\n",
      "4   -27.685  0.656146  0.241928\n",
      "..      ...       ...       ...\n",
      "795  27.685  0.439560  0.085272\n",
      "796  27.755  0.577374  0.092356\n",
      "797  27.825  0.690476  0.099994\n",
      "798  27.895  0.896205  0.113391\n",
      "799  27.965  0.837570  0.117268\n",
      "\n",
      "[800 rows x 3 columns]\n"
     ]
    },
    {
     "data": {
      "image/png": "[encoded data removed]",
      "text/plain": [
       "<Figure size 720x216 with 1 Axes>"
      ]
     },
     "metadata": {
      "needs_background": "light"
     },
     "output_type": "display_data"
    }
   ],
   "source": [
    "# US pmf computed from wham using 40ns per window and 0.5ps per frame\n",
    "#!sed '/#/d' /data/yichun/nanotube_test/US/data_folder/wham_pmf.out > /data/lyna/CNT/US-pmf.dat\n",
    "#pmf=pd.read_csv(\"/data/lyna/CNT/US-pmf.dat\", delim_whitespace=True, names=[\"z\",\"pmf\",\"pmfError\",\"prob\",\"probError\"])\n",
    "pmf=pd.read_csv(\"mbar_data_s9.csv\", delim_whitespace=True, names=['z','pmf','pmfError'])\n",
    "print(pmf)\n",
    "pmf['pmf']=pmf['pmf'].rolling(window=30,min_periods=1).mean()\n",
    "#pmf['pmfError']=pmf['pmfError'].rolling(window=30,min_periods=1).mean()\n",
    "plt.figure(figsize=(10,3))\n",
    "sns.set_context(\"paper\", font_scale=2)\n",
    "sns.lineplot(x=pmf.z, y=pmf.pmf-0.5)\n",
    "sns.lineplot(x=pmf.z, y=pmf.pmf-0.5+pmf.pmfError,linewidth=5,alpha=0.2)\n",
    "sns.lineplot(x=pmf.z, y=pmf.pmf-0.5-pmf.pmfError,linewidth=5,alpha=0.2)\n",
    "plt.grid()"
   ]
  },
  {
   "cell_type": "code",
   "execution_count": 62,
   "metadata": {},
   "outputs": [
    {
     "name": "stdout",
     "output_type": "stream",
     "text": [
      "       diff\n",
      "0  0.232148\n",
      "1  0.258651\n",
      "2  0.248624\n",
      "3  0.279256\n",
      "4  0.237672\n"
     ]
    }
   ],
   "source": [
    "sym=pd.read_csv('sym_diffusionCoef.dat',delim_whitespace=True)\n",
    "print (sym.head())"
   ]
  },
  {
   "cell_type": "code",
   "execution_count": 63,
   "metadata": {
    "scrolled": true
   },
   "outputs": [
    {
     "data": {
      "text/html": [
       "<div>\n",
       "<style scoped>\n",
       "    .dataframe tbody tr th:only-of-type {\n",
       "        vertical-align: middle;\n",
       "    }\n",
       "\n",
       "    .dataframe tbody tr th {\n",
       "        vertical-align: top;\n",
       "    }\n",
       "\n",
       "    .dataframe thead th {\n",
       "        text-align: right;\n",
       "    }\n",
       "</style>\n",
       "<table border=\"1\" class=\"dataframe\">\n",
       "  <thead>\n",
       "    <tr style=\"text-align: right;\">\n",
       "      <th></th>\n",
       "      <th>diff</th>\n",
       "      <th>Z</th>\n",
       "    </tr>\n",
       "  </thead>\n",
       "  <tbody>\n",
       "    <tr>\n",
       "      <th>0</th>\n",
       "      <td>0.232148</td>\n",
       "      <td>-28.000000</td>\n",
       "    </tr>\n",
       "    <tr>\n",
       "      <th>1</th>\n",
       "      <td>0.258651</td>\n",
       "      <td>-25.925926</td>\n",
       "    </tr>\n",
       "    <tr>\n",
       "      <th>2</th>\n",
       "      <td>0.248624</td>\n",
       "      <td>-23.851852</td>\n",
       "    </tr>\n",
       "    <tr>\n",
       "      <th>3</th>\n",
       "      <td>0.279256</td>\n",
       "      <td>-21.777778</td>\n",
       "    </tr>\n",
       "    <tr>\n",
       "      <th>4</th>\n",
       "      <td>0.237672</td>\n",
       "      <td>-19.703704</td>\n",
       "    </tr>\n",
       "    <tr>\n",
       "      <th>5</th>\n",
       "      <td>0.228267</td>\n",
       "      <td>-17.629630</td>\n",
       "    </tr>\n",
       "    <tr>\n",
       "      <th>6</th>\n",
       "      <td>0.216591</td>\n",
       "      <td>-15.555556</td>\n",
       "    </tr>\n",
       "    <tr>\n",
       "      <th>7</th>\n",
       "      <td>0.216026</td>\n",
       "      <td>-13.481481</td>\n",
       "    </tr>\n",
       "    <tr>\n",
       "      <th>8</th>\n",
       "      <td>0.144885</td>\n",
       "      <td>-11.407407</td>\n",
       "    </tr>\n",
       "    <tr>\n",
       "      <th>9</th>\n",
       "      <td>0.046256</td>\n",
       "      <td>-9.333333</td>\n",
       "    </tr>\n",
       "    <tr>\n",
       "      <th>10</th>\n",
       "      <td>0.112555</td>\n",
       "      <td>-7.259259</td>\n",
       "    </tr>\n",
       "    <tr>\n",
       "      <th>11</th>\n",
       "      <td>0.137829</td>\n",
       "      <td>-5.185185</td>\n",
       "    </tr>\n",
       "    <tr>\n",
       "      <th>12</th>\n",
       "      <td>0.125237</td>\n",
       "      <td>-3.111111</td>\n",
       "    </tr>\n",
       "    <tr>\n",
       "      <th>13</th>\n",
       "      <td>0.127810</td>\n",
       "      <td>-1.037037</td>\n",
       "    </tr>\n",
       "    <tr>\n",
       "      <th>14</th>\n",
       "      <td>0.127810</td>\n",
       "      <td>1.037037</td>\n",
       "    </tr>\n",
       "    <tr>\n",
       "      <th>15</th>\n",
       "      <td>0.125237</td>\n",
       "      <td>3.111111</td>\n",
       "    </tr>\n",
       "    <tr>\n",
       "      <th>16</th>\n",
       "      <td>0.137829</td>\n",
       "      <td>5.185185</td>\n",
       "    </tr>\n",
       "    <tr>\n",
       "      <th>17</th>\n",
       "      <td>0.112555</td>\n",
       "      <td>7.259259</td>\n",
       "    </tr>\n",
       "    <tr>\n",
       "      <th>18</th>\n",
       "      <td>0.046256</td>\n",
       "      <td>9.333333</td>\n",
       "    </tr>\n",
       "    <tr>\n",
       "      <th>19</th>\n",
       "      <td>0.144885</td>\n",
       "      <td>11.407407</td>\n",
       "    </tr>\n",
       "    <tr>\n",
       "      <th>20</th>\n",
       "      <td>0.216026</td>\n",
       "      <td>13.481481</td>\n",
       "    </tr>\n",
       "    <tr>\n",
       "      <th>21</th>\n",
       "      <td>0.216591</td>\n",
       "      <td>15.555556</td>\n",
       "    </tr>\n",
       "    <tr>\n",
       "      <th>22</th>\n",
       "      <td>0.228267</td>\n",
       "      <td>17.629630</td>\n",
       "    </tr>\n",
       "    <tr>\n",
       "      <th>23</th>\n",
       "      <td>0.237672</td>\n",
       "      <td>19.703704</td>\n",
       "    </tr>\n",
       "    <tr>\n",
       "      <th>24</th>\n",
       "      <td>0.279256</td>\n",
       "      <td>21.777778</td>\n",
       "    </tr>\n",
       "    <tr>\n",
       "      <th>25</th>\n",
       "      <td>0.248624</td>\n",
       "      <td>23.851852</td>\n",
       "    </tr>\n",
       "    <tr>\n",
       "      <th>26</th>\n",
       "      <td>0.258651</td>\n",
       "      <td>25.925926</td>\n",
       "    </tr>\n",
       "    <tr>\n",
       "      <th>27</th>\n",
       "      <td>0.232148</td>\n",
       "      <td>28.000000</td>\n",
       "    </tr>\n",
       "  </tbody>\n",
       "</table>\n",
       "</div>"
      ],
      "text/plain": [
       "        diff          Z\n",
       "0   0.232148 -28.000000\n",
       "1   0.258651 -25.925926\n",
       "2   0.248624 -23.851852\n",
       "3   0.279256 -21.777778\n",
       "4   0.237672 -19.703704\n",
       "5   0.228267 -17.629630\n",
       "6   0.216591 -15.555556\n",
       "7   0.216026 -13.481481\n",
       "8   0.144885 -11.407407\n",
       "9   0.046256  -9.333333\n",
       "10  0.112555  -7.259259\n",
       "11  0.137829  -5.185185\n",
       "12  0.125237  -3.111111\n",
       "13  0.127810  -1.037037\n",
       "14  0.127810   1.037037\n",
       "15  0.125237   3.111111\n",
       "16  0.137829   5.185185\n",
       "17  0.112555   7.259259\n",
       "18  0.046256   9.333333\n",
       "19  0.144885  11.407407\n",
       "20  0.216026  13.481481\n",
       "21  0.216591  15.555556\n",
       "22  0.228267  17.629630\n",
       "23  0.237672  19.703704\n",
       "24  0.279256  21.777778\n",
       "25  0.248624  23.851852\n",
       "26  0.258651  25.925926\n",
       "27  0.232148  28.000000"
      ]
     },
     "execution_count": 63,
     "metadata": {},
     "output_type": "execute_result"
    }
   ],
   "source": [
    "Dz=pd.DataFrame(sym)\n",
    "Dz['Z']=np.linspace(-28,28,28)\n",
    "Dz"
   ]
  },
  {
   "cell_type": "code",
   "execution_count": 72,
   "metadata": {
    "scrolled": true
   },
   "outputs": [
    {
     "name": "stdout",
     "output_type": "stream",
     "text": [
      "        pmf\n",
      "0  0.649697\n",
      "1  0.625175\n",
      "2  0.665683\n",
      "3  0.662381\n",
      "4  0.647505\n",
      "        pmf  pmfError          Z\n",
      "0  0.649697  0.248896 -28.000000\n",
      "1  0.625175  0.244529 -25.925926\n",
      "2  0.665683  0.240127 -23.851852\n",
      "3  0.662381  0.236157 -21.777778\n",
      "4  0.647505  0.233855 -19.703704\n"
     ]
    }
   ],
   "source": [
    "pmfinterp=np.interp(Dz['Z'],pmf['z'],pmf['pmf'])\n",
    "pmfErrorinterp=np.interp(Dz['Z'],pmf['z'],pmf['pmfError'])\n",
    "newpmf=pd.DataFrame(pmfinterp,columns=['pmf'])\n",
    "print (newpmf.head())\n",
    "#print (pmfErrorinterp)\n",
    "newpmf['pmfError']=pmfErrorinterp\n",
    "newpmf['Z']=Dz['Z']\n",
    "print (newpmf.head())\n",
    "#plt.scatter(newpmf.Z, newpmf.pmf)"
   ]
  },
  {
   "cell_type": "code",
   "execution_count": 73,
   "metadata": {},
   "outputs": [
    {
     "name": "stdout",
     "output_type": "stream",
     "text": [
      "         pmf  pmfError          Z\n",
      "23  0.521394  0.096180  19.703704\n",
      "24  0.525448  0.090216  21.777778\n",
      "25  0.472144  0.085229  23.851852\n",
      "26  0.494252  0.094951  25.925926\n",
      "27  0.447260  0.117268  28.000000\n"
     ]
    },
    {
     "data": {
      "image/png": "[encoded data removed]",
      "text/plain": [
       "<Figure size 432x288 with 1 Axes>"
      ]
     },
     "metadata": {
      "needs_background": "light"
     },
     "output_type": "display_data"
    }
   ],
   "source": [
    "sns.scatterplot(x=newpmf['Z'],y=newpmf['pmf'])\n",
    "sns.scatterplot(x=Dz['Z'],y=Dz['diff'])\n",
    "print (newpmf.tail())"
   ]
  },
  {
   "cell_type": "code",
   "execution_count": 2,
   "metadata": {},
   "outputs": [
    {
     "name": "stdout",
     "output_type": "stream",
     "text": [
      "piR^2 113.09733552923255\n"
     ]
    }
   ],
   "source": [
    "from scipy.constants import pi\n",
    "pi\n",
    "kb=0.001985875\n",
    "NA=6.02*(10**23)\n",
    "R=6\n",
    "beta=1/(kb*300)\n",
    "1/beta\n",
    "print(\"piR^2\", pi*R*R)"
   ]
  },
  {
   "cell_type": "code",
   "execution_count": 75,
   "metadata": {},
   "outputs": [
    {
     "name": "stdout",
     "output_type": "stream",
     "text": [
      "permeability in A^3/ns: 0.9506178702292394 permeability in cm^3/s: 9.506178702292395e-16\n",
      "resistance is 1/P: 1051.9474031756338\n"
     ]
    }
   ],
   "source": [
    "# Permeability computed from the inhomogeneous solubility-diffusion equation\n",
    "\n",
    "#Pdiffu=pi*R*R/(np.trapz(y=(np.exp(beta*newpmf['pmf']))/Dz['diff'], x=Dz['Z']))  # cubic A/ps\n",
    "Pdiffu=pi*R*R/(np.trapz(y=(np.exp(beta*newpmf['pmf']))/Dz['diff'], x=Dz['Z']))\n",
    "print('permeability in A^3/ns:', Pdiffu*1000,'permeability in cm^3/s:', Pdiffu*10**(-12))\n",
    "print('resistance is 1/P:', 1/Pdiffu)\n"
   ]
  },
  {
   "cell_type": "code",
   "execution_count": 49,
   "metadata": {},
   "outputs": [],
   "source": [
    "# test=pd.read_csv('0.5ps_final.pmf.csv',delim_whitespace=True)\n",
    "# test.columns=['z','pmf']\n",
    "\n",
    "# wham_5ps=pd.read_csv('mbar_data_s9.csv',delim_whitespace=True, header=None)\n",
    "# wham_5ps={'z_coor':wham_5ps[0],'pmf':wham_5ps[1],'sd':wham_5ps[2]}\n",
    "# wham_5ps=pd.DataFrame(wham_5ps)\n",
    "# print (wham_5ps)\n",
    "# wham_5ps['pmf']=wham_5ps['pmf'].rolling(window=30, min_periods=1).mean()\n",
    "\n",
    "\n",
    "# plt.scatter(test.z, test.pmf-1.8,label='milestone')\n",
    "# plt.scatter(wham_5ps['z_coor'], wham_5ps['pmf']-0.5, label='mbar last 20ns')\n",
    "# test['newpmf']=test.pmf-1.8\n",
    "# print (test.head())\n",
    "# plt.legend()"
   ]
  },
  {
   "cell_type": "code",
   "execution_count": 71,
   "metadata": {},
   "outputs": [
    {
     "name": "stdout",
     "output_type": "stream",
     "text": [
      "permeability in A^3/ns: 0.37183002960457423 permeability in cm^3/s: 3.718300296045742e-16\n"
     ]
    }
   ],
   "source": [
    "# Permeability computed from mfpt\n",
    "\n",
    "mfpt=2.6*10**6 # ps\n",
    "Pmfpt=pi*R*R*np.trapz(y=np.exp(-beta*newpmf['pmf']-0.5), x=newpmf['Z'])/(2*mfpt)\n",
    "print('permeability in A^3/ns:', Pmfpt*1000,'permeability in cm^3/s:', Pmfpt*10**(-12))"
   ]
  },
  {
   "cell_type": "code",
   "execution_count": 580,
   "metadata": {},
   "outputs": [
    {
     "data": {
      "image/png": "[encoded data removed]",
      "text/plain": [
       "<Figure size 720x216 with 1 Axes>"
      ]
     },
     "metadata": {
      "needs_background": "light"
     },
     "output_type": "display_data"
    },
    {
     "data": {
      "image/png": "[encoded data removed]",
      "text/plain": [
       "<Figure size 720x216 with 1 Axes>"
      ]
     },
     "metadata": {
      "needs_background": "light"
     },
     "output_type": "display_data"
    }
   ],
   "source": [
    "# just do some checking, no need to run this cell\n",
    "expP=(np.exp(beta*newpmf['pmf']))/(pi*R*R)\n",
    "expN=pi*R*R*np.exp(-beta*newpmf['pmf'])\n",
    "xgrid=2\n",
    "\n",
    "plt.figure(figsize=(10,3))\n",
    "sns.set_context(\"paper\", font_scale=2)\n",
    "sns.lineplot(x=newpmf['Z'], y=np.cumsum((expP/Dz['diff'])*xgrid), marker='o', linewidth=2)\n",
    "np.max(np.cumsum((expP/Dz['diff'])*xgrid))\n",
    "plt.grid()\n",
    "plt.show()\n",
    "\n",
    "plt.figure(figsize=(10,3))\n",
    "sns.set_context(\"paper\", font_scale=2)\n",
    "sns.lineplot(x=newpmf['Z'], y=(expP/Dz['diff'])*xgrid, marker='o',linewidth=2 )\n",
    "plt.grid()\n",
    "#sns.scatterplot(x=newpmf['Z'], y=(expP))\n",
    "#sns.scatterplot(x=newpmf['Z'], y=np.cumsum((expN))/mfpt)\n",
    "#sns.scatterplot(x=newpmf['Z'], y=np.cumsum((xgrid*expN)/(2*mfpt)), color='g')\n"
   ]
  },
  {
   "cell_type": "code",
   "execution_count": 3,
   "metadata": {},
   "outputs": [
    {
     "name": "stdout",
     "output_type": "stream",
     "text": [
      "96474.35897435897\n",
      "concentration 0.7730321107608913 M\n",
      "permeability in A^3/ns 0.34683828521444704 permeability in cm^3/s 3.46838285214447e-16\n",
      "3.5801549667923314e-16\n"
     ]
    }
   ],
   "source": [
    "# Permeability computed from voltage \n",
    "# https://psychology.wikia.org/wiki/GHK_current_equation\n",
    "# The charge that each electron carries is 1.60 x 10-19 coulombs\n",
    "# 1 mole of electrons is NA electrons\n",
    "# 1 coulomb is the negative charge of 6.24*10^18 e\n",
    "# Faraday constant is the charge of one mole electron, thus unit Coulomb/mol, or J/V/mol, since J/V=Coulomb\n",
    "\n",
    "coulomb=6.24*10**18 \n",
    "NA=6.02*(10**23)\n",
    "F=NA/coulomb\n",
    "print(F)\n",
    "\n",
    "RT=8.314*300.15 # J/mol\n",
    "kT=26.7 # emV\n",
    "\n",
    "# carbone nanotube K+ concentration under voltage and cylinder volume\n",
    "numberIon=1\n",
    "R=6\n",
    "#Length=(74-18)/2\n",
    "Length=(28-9) #for milestone and umbrella sampling bulk concentration\n",
    "volum=pi*R*R*Length\n",
    "conc=(10**27)*((numberIon/NA)/volum)\n",
    "print(\"concentration\", conc, \"M\")\n",
    "\n",
    "c=conc*1000 # concentration in mol/m^3\n",
    "gamma=1 # K+ conductance in pS, one coulomb/ps/V\n",
    "\n",
    "P=gamma*10**(-12)/(c*F*F/RT) # K+ permeability in m^3/s\n",
    "print(\"permeability in A^3/ns\", P*10**21, \"permeability in cm^3/s\", P*10**6)\n",
    "\n",
    "# We can get the same answer using P=gamma*kT/conc\n",
    "print((gamma*10**(-12))*kT/(conc*F))"
   ]
  },
  {
   "cell_type": "code",
   "execution_count": 335,
   "metadata": {},
   "outputs": [
    {
     "name": "stdout",
     "output_type": "stream",
     "text": [
      "permeability in cm^3/s from Table 1  2.459003322259136e-15\n"
     ]
    }
   ],
   "source": [
    "# Use P = gamma*kT/conc to check permeability in cm^3/s from Table 1 of JCIM2019 using eq 4\n",
    "\n",
    "# P=1.2(C/pS/V) *25.7 (mV) / 0.13(mol/L)\n",
    "# P=1.2*10**12 (C/S/V) * 25.7*10**(-3) (V) / 0.13*96320*10**(-3) (C/cm^3)\n",
    "print( \"permeability in cm^3/s from Table 1 \",\n",
    "      (1.2*10**(-12)) * (25.7*10**(-3)) / (0.13*F*10**(-3)))\n"
   ]
  },
  {
   "cell_type": "code",
   "execution_count": 353,
   "metadata": {},
   "outputs": [
    {
     "name": "stdout",
     "output_type": "stream",
     "text": [
      "conductance in Table1 in pS is: 1.2471315973261496\n"
     ]
    }
   ],
   "source": [
    "# Testing eq.3 gamma=k0/kT (note both gamma and k0=1/mfpt depend on conc, thus conc cancels out)\n",
    "print(\"conductance in Table1 in pS is:\",10**12*(2*10**5)/0.0257/coulomb)\n"
   ]
  },
  {
   "cell_type": "code",
   "execution_count": 359,
   "metadata": {},
   "outputs": [
    {
     "name": "stdout",
     "output_type": "stream",
     "text": [
      "2600000.0 ps 2307692.3076923075 per second\n",
      "14.38997996914788 conductance from mfpt in pS\n"
     ]
    }
   ],
   "source": [
    "# assume mfpt is linear with conc which is 6 times in voltage simualtion\n",
    "\n",
    "k0=10**12*(6/mfpt) \n",
    "print(mfpt, \"ps\", k0, \"per second\")\n",
    "print(10**12*k0/0.0257/coulomb, \"conductance from mfpt in pS\")"
   ]
  },
  {
   "cell_type": "code",
   "execution_count": null,
   "metadata": {},
   "outputs": [],
   "source": []
  }
 ],
 "metadata": {
  "kernelspec": {
   "display_name": "Python 3",
   "language": "python",
   "name": "python3"
  },
  "language_info": {
   "codemirror_mode": {
    "name": "ipython",
    "version": 3
   },
   "file_extension": ".py",
   "mimetype": "text/x-python",
   "name": "python",
   "nbconvert_exporter": "python",
   "pygments_lexer": "ipython3",
   "version": "3.8.5"
  }
 },
 "nbformat": 4,
 "nbformat_minor": 4
}
