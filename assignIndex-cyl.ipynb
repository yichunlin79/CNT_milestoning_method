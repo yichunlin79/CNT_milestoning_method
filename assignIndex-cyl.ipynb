{
 "cells": [
  {
   "cell_type": "code",
   "execution_count": 2,
   "metadata": {},
   "outputs": [],
   "source": [
    "import numpy as np\n",
    "import pandas as pd\n",
    "import matplotlib\n",
    "from matplotlib import pyplot as plt\n",
    "import tqdm\n",
    "import copy\n",
    "import gc\n",
    "import sys\n",
    "import os\n",
    "import f90nml\n",
    "import seaborn as sns\n",
    "\n",
    "import bokeh\n",
    "from bokeh.layouts import gridplot\n",
    "from bokeh.models import ColumnDataSource, CDSView, GroupFilter, HoverTool\n",
    "from bokeh.plotting import figure, show\n",
    "from bokeh.transform import factor_cmap\n",
    "from bokeh.palettes import Spectral11\n",
    "\n",
    "from bokeh.models.mappers import CategoricalColorMapper\n",
    "\n",
    "import ipywidgets as widgets\n",
    "from ipywidgets import interact, interact_manual\n",
    "\n",
    "import scipy as sp\n",
    "from scipy.sparse import linalg"
   ]
  },
  {
   "cell_type": "code",
   "execution_count": 2,
   "metadata": {
    "scrolled": true
   },
   "outputs": [
    {
     "data": {
      "text/plain": [
       "array(['window_00_rest.step_10.dat', 'window_00_rest.step_8.dat',\n",
       "       'window_00_rest.step_9.dat', 'window_01_rest.step_10.dat',\n",
       "       'window_01_rest.step_8.dat', 'window_01_rest.step_9.dat',\n",
       "       'window_02_rest.step_10.dat', 'window_02_rest.step_8.dat',\n",
       "       'window_02_rest.step_9.dat', 'window_03_rest.step_10.dat',\n",
       "       'window_03_rest.step_8.dat', 'window_03_rest.step_9.dat',\n",
       "       'window_04_rest.step_10.dat', 'window_04_rest.step_8.dat',\n",
       "       'window_04_rest.step_9.dat', 'window_05_rest.step_10.dat',\n",
       "       'window_05_rest.step_8.dat', 'window_05_rest.step_9.dat',\n",
       "       'window_06_rest.step_10.dat', 'window_06_rest.step_8.dat',\n",
       "       'window_06_rest.step_9.dat', 'window_07_rest.step_10.dat',\n",
       "       'window_07_rest.step_8.dat', 'window_07_rest.step_9.dat',\n",
       "       'window_08_rest.step_10.dat', 'window_08_rest.step_8.dat',\n",
       "       'window_08_rest.step_9.dat', 'window_09_rest.step_10.dat',\n",
       "       'window_09_rest.step_8.dat', 'window_09_rest.step_9.dat',\n",
       "       'window_10_rest.step_10.dat', 'window_10_rest.step_8.dat',\n",
       "       'window_10_rest.step_9.dat', 'window_11_rest.step_10.dat',\n",
       "       'window_11_rest.step_8.dat', 'window_11_rest.step_9.dat',\n",
       "       'window_12_rest.step_10.dat', 'window_12_rest.step_8.dat',\n",
       "       'window_12_rest.step_9.dat', 'window_13_rest.step_10.dat',\n",
       "       'window_13_rest.step_8.dat', 'window_13_rest.step_9.dat',\n",
       "       'window_14_rest.step_10.dat', 'window_14_rest.step_8.dat',\n",
       "       'window_14_rest.step_9.dat', 'window_15_rest.step_10.dat',\n",
       "       'window_15_rest.step_8.dat', 'window_15_rest.step_9.dat',\n",
       "       'window_16_rest.step_10.dat', 'window_16_rest.step_8.dat',\n",
       "       'window_16_rest.step_9.dat', 'window_17_rest.step_10.dat',\n",
       "       'window_17_rest.step_8.dat', 'window_17_rest.step_9.dat',\n",
       "       'window_18_rest.step_10.dat', 'window_18_rest.step_8.dat',\n",
       "       'window_18_rest.step_9.dat', 'window_19_rest.step_10.dat',\n",
       "       'window_19_rest.step_11.dat', 'window_19_rest.step_8.dat',\n",
       "       'window_19_rest.step_9.dat', 'window_20_rest.step_10.dat',\n",
       "       'window_20_rest.step_8.dat', 'window_20_rest.step_9.dat',\n",
       "       'window_21_rest.step_10.dat', 'window_21_rest.step_8.dat',\n",
       "       'window_21_rest.step_9.dat', 'window_22_rest.step_10.dat',\n",
       "       'window_22_rest.step_8.dat', 'window_22_rest.step_9.dat',\n",
       "       'window_23_rest.step_10.dat', 'window_23_rest.step_8.dat',\n",
       "       'window_23_rest.step_9.dat', 'window_24_rest.step_10.dat',\n",
       "       'window_24_rest.step_8.dat', 'window_24_rest.step_9.dat',\n",
       "       'window_25_rest.step_10.dat', 'window_25_rest.step_8.dat',\n",
       "       'window_25_rest.step_9.dat', 'window_26_rest.step_10.dat',\n",
       "       'window_26_rest.step_8.dat', 'window_26_rest.step_9.dat',\n",
       "       'window_27_rest.step_10.dat', 'window_27_rest.step_8.dat',\n",
       "       'window_27_rest.step_9.dat'], dtype='<U26')"
      ]
     },
     "execution_count": 2,
     "metadata": {},
     "output_type": "execute_result"
    }
   ],
   "source": [
    "dataDir='data_folder_smallCyl/'\n",
    "dataFiles=np.sort([filename for filename in os.listdir(dataDir) if \".dat\" in filename])\n",
    "dataFiles"
   ]
  },
  {
   "cell_type": "code",
   "execution_count": 3,
   "metadata": {
    "scrolled": true
   },
   "outputs": [
    {
     "name": "stdout",
     "output_type": "stream",
     "text": [
      "       Window  Rep      Time     Frame    Rst00_Z  XY_Radius\n",
      "0           0    1         0         0 -27.608865   2.207269\n",
      "1           0    1       200       200 -27.054186   1.977292\n",
      "2           0    1       400       400 -26.806384   2.891736\n",
      "3           0    1       600       600 -26.839846   3.106608\n",
      "4           0    1       800       800 -26.396591   3.322032\n",
      "...       ...  ...       ...       ...        ...        ...\n",
      "99995      27    1  19999000  19999000  27.755441   5.009898\n",
      "99996      27    1  19999200  19999200  27.942983   4.893167\n",
      "99997      27    1  19999400  19999400  28.026607   4.651274\n",
      "99998      27    1  19999600  19999600  27.516518   4.738751\n",
      "99999      27    1  19999800  19999800  27.480306   4.907999\n",
      "\n",
      "[13722683 rows x 6 columns]\n"
     ]
    }
   ],
   "source": [
    "datColNames=['Frame','Rst00_Z','XY_Radius']\n",
    "crdColumns=['Frame','Rst00_Z','XY_Radius']\n",
    "windowDataTables=[]\n",
    "windowTable=[]\n",
    "tempTable=[]\n",
    "for datFile in dataFiles:\n",
    "    #print ('loading milestone coordinate data from %s'%datFile)\n",
    "    datFilePath=dataDir+'/'+datFile\n",
    "    window=np.int(datFile.split('_')[1])\n",
    "    \n",
    "    if 'rep_' in datFile:\n",
    "        rep=np.int(datFile.split('.')[1].split('_')[1])\n",
    "        #print (rep)\n",
    "    else:\n",
    "        rep=1\n",
    "\n",
    "    tempTable=pd.read_csv(datFilePath,delim_whitespace=True,names=datColNames)\n",
    "    tempTable['Window']=window\n",
    "    tempTable['Rep']=rep\n",
    "    windowTable=tempTable[['Window','Rep']].copy()\n",
    "    #windowTable=tempTable[['Window']].copy()\n",
    "    windowTable['Time']=tempTable['Frame']\n",
    "    for crdColumn in crdColumns:\n",
    "        windowTable[crdColumn]=tempTable[crdColumn]\n",
    "    windowDataTables.append(windowTable.copy())\n",
    "#simData=pd.concat(windowDataTables).query(\"(Time<11)\")\n",
    "simData=pd.concat(windowDataTables)\n",
    "print(simData)\n"
   ]
  },
  {
   "cell_type": "code",
   "execution_count": 4,
   "metadata": {
    "scrolled": true
   },
   "outputs": [
    {
     "name": "stdout",
     "output_type": "stream",
     "text": [
      "    lowerWall  upperWall  Window\n",
      "0       -28.0      -26.0       0\n",
      "1       -26.0      -24.0       1\n",
      "2       -24.0      -22.0       2\n",
      "3       -22.0      -20.0       3\n",
      "4       -20.0      -18.0       4\n",
      "5       -18.0      -16.0       5\n",
      "6       -16.0      -14.0       6\n",
      "7       -14.0      -12.0       7\n",
      "8       -12.0      -10.0       8\n",
      "9       -10.0       -8.0       9\n",
      "10       -8.0       -6.0      10\n",
      "11       -6.0       -4.0      11\n",
      "12       -4.0       -2.0      12\n",
      "13       -2.0        0.0      13\n",
      "14        0.0        2.0      14\n",
      "15        2.0        4.0      15\n",
      "16        4.0        6.0      16\n",
      "17        6.0        8.0      17\n",
      "18        8.0       10.0      18\n",
      "19       10.0       12.0      19\n",
      "20       12.0       14.0      20\n",
      "21       14.0       16.0      21\n",
      "22       16.0       18.0      22\n",
      "23       18.0       20.0      23\n",
      "24       20.0       22.0      24\n",
      "25       22.0       24.0      25\n",
      "26       24.0       26.0      26\n",
      "27       26.0       28.0      27\n"
     ]
    }
   ],
   "source": [
    "windowRestraintTable=pd.read_csv('win_center_cyl.txt',delim_whitespace=True,header=None)\n",
    "windowRestraintTable.columns=['lowerWall','upperWall']\n",
    "windowRestraintTable['Window']=np.arange(0,28)\n",
    "#windowRestraintTable['FC1']=100\n",
    "#windowRestraintTable['FC2']=100\n",
    "print (windowRestraintTable)"
   ]
  },
  {
   "cell_type": "code",
   "execution_count": 5,
   "metadata": {},
   "outputs": [
    {
     "name": "stdout",
     "output_type": "stream",
     "text": [
      "28.0\n",
      "-28.0\n"
     ]
    }
   ],
   "source": [
    "print(windowRestraintTable['upperWall'][27])\n",
    "print(windowRestraintTable['lowerWall'][0])"
   ]
  },
  {
   "cell_type": "code",
   "execution_count": 6,
   "metadata": {},
   "outputs": [
    {
     "data": {
      "text/html": [
       "<div>\n",
       "<style scoped>\n",
       "    .dataframe tbody tr th:only-of-type {\n",
       "        vertical-align: middle;\n",
       "    }\n",
       "\n",
       "    .dataframe tbody tr th {\n",
       "        vertical-align: top;\n",
       "    }\n",
       "\n",
       "    .dataframe thead th {\n",
       "        text-align: right;\n",
       "    }\n",
       "</style>\n",
       "<table border=\"1\" class=\"dataframe\">\n",
       "  <thead>\n",
       "    <tr style=\"text-align: right;\">\n",
       "      <th></th>\n",
       "      <th>Window</th>\n",
       "      <th>Rep</th>\n",
       "      <th>Time</th>\n",
       "      <th>Frame</th>\n",
       "      <th>Rst00_Z</th>\n",
       "      <th>XY_Radius</th>\n",
       "    </tr>\n",
       "  </thead>\n",
       "  <tbody>\n",
       "    <tr>\n",
       "      <th>0</th>\n",
       "      <td>0</td>\n",
       "      <td>1</td>\n",
       "      <td>0</td>\n",
       "      <td>0</td>\n",
       "      <td>-27.608865</td>\n",
       "      <td>2.207269</td>\n",
       "    </tr>\n",
       "    <tr>\n",
       "      <th>1</th>\n",
       "      <td>0</td>\n",
       "      <td>1</td>\n",
       "      <td>200</td>\n",
       "      <td>200</td>\n",
       "      <td>-27.054186</td>\n",
       "      <td>1.977292</td>\n",
       "    </tr>\n",
       "    <tr>\n",
       "      <th>2</th>\n",
       "      <td>0</td>\n",
       "      <td>1</td>\n",
       "      <td>400</td>\n",
       "      <td>400</td>\n",
       "      <td>-26.806384</td>\n",
       "      <td>2.891736</td>\n",
       "    </tr>\n",
       "    <tr>\n",
       "      <th>3</th>\n",
       "      <td>0</td>\n",
       "      <td>1</td>\n",
       "      <td>600</td>\n",
       "      <td>600</td>\n",
       "      <td>-26.839846</td>\n",
       "      <td>3.106608</td>\n",
       "    </tr>\n",
       "    <tr>\n",
       "      <th>4</th>\n",
       "      <td>0</td>\n",
       "      <td>1</td>\n",
       "      <td>800</td>\n",
       "      <td>800</td>\n",
       "      <td>-26.396591</td>\n",
       "      <td>3.322032</td>\n",
       "    </tr>\n",
       "  </tbody>\n",
       "</table>\n",
       "</div>"
      ],
      "text/plain": [
       "   Window  Rep  Time  Frame    Rst00_Z  XY_Radius\n",
       "0       0    1     0      0 -27.608865   2.207269\n",
       "1       0    1   200    200 -27.054186   1.977292\n",
       "2       0    1   400    400 -26.806384   2.891736\n",
       "3       0    1   600    600 -26.839846   3.106608\n",
       "4       0    1   800    800 -26.396591   3.322032"
      ]
     },
     "execution_count": 6,
     "metadata": {},
     "output_type": "execute_result"
    }
   ],
   "source": [
    "simData.head()"
   ]
  },
  {
   "cell_type": "code",
   "execution_count": 7,
   "metadata": {},
   "outputs": [
    {
     "name": "stdout",
     "output_type": "stream",
     "text": [
      "          Window  Rep      Time     Frame    Rst00_Z  XY_Radius  lowerWall  \\\n",
      "0              0    1         0         0 -27.608865   2.207269      -28.0   \n",
      "1              0    1       200       200 -27.054186   1.977292      -28.0   \n",
      "2              0    1       400       400 -26.806384   2.891736      -28.0   \n",
      "3              0    1       600       600 -26.839846   3.106608      -28.0   \n",
      "4              0    1       800       800 -26.396591   3.322032      -28.0   \n",
      "...          ...  ...       ...       ...        ...        ...        ...   \n",
      "13722678      27    1  19999000  19999000  27.755441   5.009898       26.0   \n",
      "13722679      27    1  19999200  19999200  27.942983   4.893167       26.0   \n",
      "13722680      27    1  19999400  19999400  28.026607   4.651274       26.0   \n",
      "13722681      27    1  19999600  19999600  27.516518   4.738751       26.0   \n",
      "13722682      27    1  19999800  19999800  27.480306   4.907999       26.0   \n",
      "\n",
      "          upperWall  \n",
      "0             -26.0  \n",
      "1             -26.0  \n",
      "2             -26.0  \n",
      "3             -26.0  \n",
      "4             -26.0  \n",
      "...             ...  \n",
      "13722678       28.0  \n",
      "13722679       28.0  \n",
      "13722680       28.0  \n",
      "13722681       28.0  \n",
      "13722682       28.0  \n",
      "\n",
      "[13722683 rows x 8 columns]\n"
     ]
    }
   ],
   "source": [
    "milestone_data_table=pd.merge(simData,windowRestraintTable)\n",
    "milestone_data_table.to_csv('merged.csv',index=False)\n",
    "print(milestone_data_table)\n",
    "df=[]\n",
    "df=milestone_data_table"
   ]
  },
  {
   "cell_type": "code",
   "execution_count": 8,
   "metadata": {},
   "outputs": [
    {
     "name": "stdout",
     "output_type": "stream",
     "text": [
      "          Window  Rep      Time     Frame    Rst00_Z  XY_Radius  lowerWall  \\\n",
      "0              0    1         0         0 -27.608865   2.207269      -28.0   \n",
      "1              0    1       200       200 -27.054186   1.977292      -28.0   \n",
      "2              0    1       400       400 -26.806384   2.891736      -28.0   \n",
      "3              0    1       600       600 -26.839846   3.106608      -28.0   \n",
      "4              0    1       800       800 -26.396591   3.322032      -28.0   \n",
      "...          ...  ...       ...       ...        ...        ...        ...   \n",
      "13722678      27    1  19999000  19999000  27.755441   5.009898       26.0   \n",
      "13722679      27    1  19999200  19999200  27.942983   4.893167       26.0   \n",
      "13722680      27    1  19999400  19999400  28.026607   4.651274       26.0   \n",
      "13722681      27    1  19999600  19999600  27.516518   4.738751       26.0   \n",
      "13722682      27    1  19999800  19999800  27.480306   4.907999       26.0   \n",
      "\n",
      "          upperWall  X_Index  \n",
      "0             -26.0        0  \n",
      "1             -26.0        0  \n",
      "2             -26.0        0  \n",
      "3             -26.0        0  \n",
      "4             -26.0        0  \n",
      "...             ...      ...  \n",
      "13722678       28.0       27  \n",
      "13722679       28.0       27  \n",
      "13722680       28.0       28  \n",
      "13722681       28.0       27  \n",
      "13722682       28.0       27  \n",
      "\n",
      "[13722683 rows x 9 columns]\n",
      "[ 0  1 -1  2  3  4  5  6  7  8  9 10 11 12 13 14 15 16 17 18 19 20 21 22\n",
      " 23 24 25 26 27 28]\n"
     ]
    }
   ],
   "source": [
    "conditions=[ \n",
    "    (df['Rst00_Z']>df['lowerWall']) & (df['Rst00_Z']<=df['upperWall']), # lowerwall<z<upperwall, X_index=window\n",
    "    (df['Rst00_Z']<=df['lowerWall']), # z<=lowerwall, X_index=window-1\n",
    "    (df['Rst00_Z']>df['upperWall']), # z>upperwall, X_index=window+1\n",
    "]\n",
    "choices = [df['Window'], df['Window']-1, df['Window']+1]\n",
    "\n",
    "df['X_Index']=np.select(conditions, choices)\n",
    "print(df)\n",
    "#df.to_csv(\"/data/lyna/CNT/df.csv\")\n",
    "print(df.X_Index.unique()) "
   ]
  },
  {
   "cell_type": "code",
   "execution_count": 9,
   "metadata": {},
   "outputs": [],
   "source": [
    "#df.query('X_Index ==0')\n",
    "#df"
   ]
  },
  {
   "cell_type": "code",
   "execution_count": 10,
   "metadata": {},
   "outputs": [
    {
     "name": "stderr",
     "output_type": "stream",
     "text": [
      "C:\\Users\\19094\\Anaconda2\\envs\\p36workshop\\lib\\site-packages\\seaborn\\_decorators.py:36: FutureWarning: Pass the following variables as keyword args: x, y. From version 0.12, the only valid positional argument will be `data`, and passing other arguments without an explicit keyword will result in an error or misinterpretation.\n",
      "  warnings.warn(\n"
     ]
    },
    {
     "data": {
      "text/plain": [
       "<AxesSubplot:xlabel='Window', ylabel='X_Index'>"
      ]
     },
     "execution_count": 10,
     "metadata": {},
     "output_type": "execute_result"
    },
    {
     "data": {
      "image/png": "[encoded data removed]",
      "text/plain": [
       "<Figure size 432x288 with 1 Axes>"
      ]
     },
     "metadata": {
      "needs_background": "light"
     },
     "output_type": "display_data"
    }
   ],
   "source": [
    "df.replace({'X_Index':-1}, 0, inplace=True)\n",
    "df.replace({'X_Index':28}, 27, inplace=True)\n",
    "sns.scatterplot(df.Window, df.X_Index)"
   ]
  },
  {
   "cell_type": "code",
   "execution_count": 11,
   "metadata": {},
   "outputs": [
    {
     "data": {
      "text/html": [
       "<div>\n",
       "<style scoped>\n",
       "    .dataframe tbody tr th:only-of-type {\n",
       "        vertical-align: middle;\n",
       "    }\n",
       "\n",
       "    .dataframe tbody tr th {\n",
       "        vertical-align: top;\n",
       "    }\n",
       "\n",
       "    .dataframe thead th {\n",
       "        text-align: right;\n",
       "    }\n",
       "</style>\n",
       "<table border=\"1\" class=\"dataframe\">\n",
       "  <thead>\n",
       "    <tr style=\"text-align: right;\">\n",
       "      <th></th>\n",
       "      <th>Window</th>\n",
       "      <th>Rep</th>\n",
       "      <th>Time</th>\n",
       "      <th>Frame</th>\n",
       "      <th>Rst00_Z</th>\n",
       "      <th>XY_Radius</th>\n",
       "      <th>lowerWall</th>\n",
       "      <th>upperWall</th>\n",
       "      <th>X_Index</th>\n",
       "    </tr>\n",
       "  </thead>\n",
       "  <tbody>\n",
       "    <tr>\n",
       "      <th>0</th>\n",
       "      <td>0</td>\n",
       "      <td>1</td>\n",
       "      <td>0</td>\n",
       "      <td>0</td>\n",
       "      <td>-27.608865</td>\n",
       "      <td>2.207269</td>\n",
       "      <td>-28.0</td>\n",
       "      <td>-26.0</td>\n",
       "      <td>0</td>\n",
       "    </tr>\n",
       "    <tr>\n",
       "      <th>1</th>\n",
       "      <td>0</td>\n",
       "      <td>1</td>\n",
       "      <td>200</td>\n",
       "      <td>200</td>\n",
       "      <td>-27.054186</td>\n",
       "      <td>1.977292</td>\n",
       "      <td>-28.0</td>\n",
       "      <td>-26.0</td>\n",
       "      <td>0</td>\n",
       "    </tr>\n",
       "    <tr>\n",
       "      <th>2</th>\n",
       "      <td>0</td>\n",
       "      <td>1</td>\n",
       "      <td>400</td>\n",
       "      <td>400</td>\n",
       "      <td>-26.806384</td>\n",
       "      <td>2.891736</td>\n",
       "      <td>-28.0</td>\n",
       "      <td>-26.0</td>\n",
       "      <td>0</td>\n",
       "    </tr>\n",
       "    <tr>\n",
       "      <th>3</th>\n",
       "      <td>0</td>\n",
       "      <td>1</td>\n",
       "      <td>600</td>\n",
       "      <td>600</td>\n",
       "      <td>-26.839846</td>\n",
       "      <td>3.106608</td>\n",
       "      <td>-28.0</td>\n",
       "      <td>-26.0</td>\n",
       "      <td>0</td>\n",
       "    </tr>\n",
       "    <tr>\n",
       "      <th>4</th>\n",
       "      <td>0</td>\n",
       "      <td>1</td>\n",
       "      <td>800</td>\n",
       "      <td>800</td>\n",
       "      <td>-26.396591</td>\n",
       "      <td>3.322032</td>\n",
       "      <td>-28.0</td>\n",
       "      <td>-26.0</td>\n",
       "      <td>0</td>\n",
       "    </tr>\n",
       "  </tbody>\n",
       "</table>\n",
       "</div>"
      ],
      "text/plain": [
       "   Window  Rep  Time  Frame    Rst00_Z  XY_Radius  lowerWall  upperWall  \\\n",
       "0       0    1     0      0 -27.608865   2.207269      -28.0      -26.0   \n",
       "1       0    1   200    200 -27.054186   1.977292      -28.0      -26.0   \n",
       "2       0    1   400    400 -26.806384   2.891736      -28.0      -26.0   \n",
       "3       0    1   600    600 -26.839846   3.106608      -28.0      -26.0   \n",
       "4       0    1   800    800 -26.396591   3.322032      -28.0      -26.0   \n",
       "\n",
       "   X_Index  \n",
       "0        0  \n",
       "1        0  \n",
       "2        0  \n",
       "3        0  \n",
       "4        0  "
      ]
     },
     "metadata": {},
     "output_type": "display_data"
    },
    {
     "data": {
      "text/html": [
       "<div>\n",
       "<style scoped>\n",
       "    .dataframe tbody tr th:only-of-type {\n",
       "        vertical-align: middle;\n",
       "    }\n",
       "\n",
       "    .dataframe tbody tr th {\n",
       "        vertical-align: top;\n",
       "    }\n",
       "\n",
       "    .dataframe thead th {\n",
       "        text-align: right;\n",
       "    }\n",
       "</style>\n",
       "<table border=\"1\" class=\"dataframe\">\n",
       "  <thead>\n",
       "    <tr style=\"text-align: right;\">\n",
       "      <th></th>\n",
       "      <th>Window</th>\n",
       "      <th>Rep</th>\n",
       "      <th>Time</th>\n",
       "      <th>Frame</th>\n",
       "      <th>Rst00_Z</th>\n",
       "      <th>XY_Radius</th>\n",
       "      <th>lowerWall</th>\n",
       "      <th>upperWall</th>\n",
       "      <th>X_Index</th>\n",
       "    </tr>\n",
       "  </thead>\n",
       "  <tbody>\n",
       "    <tr>\n",
       "      <th>13722678</th>\n",
       "      <td>27</td>\n",
       "      <td>1</td>\n",
       "      <td>19999000</td>\n",
       "      <td>19999000</td>\n",
       "      <td>27.755441</td>\n",
       "      <td>5.009898</td>\n",
       "      <td>26.0</td>\n",
       "      <td>28.0</td>\n",
       "      <td>27</td>\n",
       "    </tr>\n",
       "    <tr>\n",
       "      <th>13722679</th>\n",
       "      <td>27</td>\n",
       "      <td>1</td>\n",
       "      <td>19999200</td>\n",
       "      <td>19999200</td>\n",
       "      <td>27.942983</td>\n",
       "      <td>4.893167</td>\n",
       "      <td>26.0</td>\n",
       "      <td>28.0</td>\n",
       "      <td>27</td>\n",
       "    </tr>\n",
       "    <tr>\n",
       "      <th>13722680</th>\n",
       "      <td>27</td>\n",
       "      <td>1</td>\n",
       "      <td>19999400</td>\n",
       "      <td>19999400</td>\n",
       "      <td>28.026607</td>\n",
       "      <td>4.651274</td>\n",
       "      <td>26.0</td>\n",
       "      <td>28.0</td>\n",
       "      <td>27</td>\n",
       "    </tr>\n",
       "    <tr>\n",
       "      <th>13722681</th>\n",
       "      <td>27</td>\n",
       "      <td>1</td>\n",
       "      <td>19999600</td>\n",
       "      <td>19999600</td>\n",
       "      <td>27.516518</td>\n",
       "      <td>4.738751</td>\n",
       "      <td>26.0</td>\n",
       "      <td>28.0</td>\n",
       "      <td>27</td>\n",
       "    </tr>\n",
       "    <tr>\n",
       "      <th>13722682</th>\n",
       "      <td>27</td>\n",
       "      <td>1</td>\n",
       "      <td>19999800</td>\n",
       "      <td>19999800</td>\n",
       "      <td>27.480306</td>\n",
       "      <td>4.907999</td>\n",
       "      <td>26.0</td>\n",
       "      <td>28.0</td>\n",
       "      <td>27</td>\n",
       "    </tr>\n",
       "  </tbody>\n",
       "</table>\n",
       "</div>"
      ],
      "text/plain": [
       "          Window  Rep      Time     Frame    Rst00_Z  XY_Radius  lowerWall  \\\n",
       "13722678      27    1  19999000  19999000  27.755441   5.009898       26.0   \n",
       "13722679      27    1  19999200  19999200  27.942983   4.893167       26.0   \n",
       "13722680      27    1  19999400  19999400  28.026607   4.651274       26.0   \n",
       "13722681      27    1  19999600  19999600  27.516518   4.738751       26.0   \n",
       "13722682      27    1  19999800  19999800  27.480306   4.907999       26.0   \n",
       "\n",
       "          upperWall  X_Index  \n",
       "13722678       28.0       27  \n",
       "13722679       28.0       27  \n",
       "13722680       28.0       27  \n",
       "13722681       28.0       27  \n",
       "13722682       28.0       27  "
      ]
     },
     "execution_count": 11,
     "metadata": {},
     "output_type": "execute_result"
    }
   ],
   "source": [
    "simData=df\n",
    "display(simData.head())\n",
    "simData.tail()"
   ]
  },
  {
   "cell_type": "code",
   "execution_count": 14,
   "metadata": {},
   "outputs": [
    {
     "data": {
      "text/plain": [
       "<matplotlib.collections.PathCollection at 0x2d28d8a77f0>"
      ]
     },
     "execution_count": 14,
     "metadata": {},
     "output_type": "execute_result"
    },
    {
     "data": {
      "image/png": "[encoded data removed]",
      "text/plain": [
       "<Figure size 432x288 with 1 Axes>"
      ]
     },
     "metadata": {
      "needs_background": "light"
     },
     "output_type": "display_data"
    }
   ],
   "source": [
    "plt.figure(figsize=(15,4))\n",
    "plotName=[]\n",
    "plotData=[]\n",
    "transitData=[]\n",
    "centerData=[]\n",
    "\n",
    "for group in simData.groupby('Window'):\n",
    "    plotName,plotData=group\n",
    "    transitData=plotData.query('Window != X_Index')\n",
    "    centerData=plotData.query('Window ==X_Index')\n",
    "    \n",
    "    plt.scatter(x=centerData.Rst00_Z, y=centerData.XY_Radius,s=1,alpha=0.25)\n",
    "    plt.scatter(x=transitData.Rst00_Z, y=transitData.XY_Radius,s=1,alpha=0.25)\n",
    "plt.xlabel(\"z\")\n",
    "plt.ylabel(\"xy radius\")\n",
    "plt.xticks(np.arange(-18,18,1))\n",
    "plt.grid( linestyle='-', linewidth=1)\n",
    "plt.show()\n"
   ]
  },
  {
   "cell_type": "code",
   "execution_count": 15,
   "metadata": {},
   "outputs": [],
   "source": [
    "simData.to_csv('Simulation_Milestone_Coordinate_Data.allCyl.0.2ps.10.4.csv',index=False)"
   ]
  },
  {
   "cell_type": "code",
   "execution_count": 3,
   "metadata": {},
   "outputs": [
    {
     "name": "stdout",
     "output_type": "stream",
     "text": [
      "   Window  Rep  Time  Frame    Rst00_Z  XY_Radius  lowerWall  upperWall  \\\n",
      "0       0    1     0      0 -26.435905   5.872915      -28.0      -26.0   \n",
      "1       0    1   500    500 -26.117360   5.653717      -28.0      -26.0   \n",
      "2       0    1  1000   1000 -26.374524   5.762395      -28.0      -26.0   \n",
      "3       0    1  1500   1500 -25.987833   5.606116      -28.0      -26.0   \n",
      "4       0    1  2000   2000 -26.061743   5.124574      -28.0      -26.0   \n",
      "\n",
      "   X_Index  \n",
      "0        0  \n",
      "1        0  \n",
      "2        0  \n",
      "3        1  \n",
      "4        0  \n"
     ]
    }
   ],
   "source": [
    "tt=pd.read_csv('Simulation_Milestone_Coordinate_Data.allCyl.0.5ps.csv')\n",
    "print (tt.head())"
   ]
  },
  {
   "cell_type": "code",
   "execution_count": 4,
   "metadata": {},
   "outputs": [
    {
     "data": {
      "image/png": "[encoded data removed]",
      "text/plain": [
       "<Figure size 720x216 with 1 Axes>"
      ]
     },
     "metadata": {
      "needs_background": "light"
     },
     "output_type": "display_data"
    }
   ],
   "source": [
    "plt.figure(figsize=(10,3))\n",
    "sns.set_context(\"paper\",font_scale=2)\n",
    "#plt.figure(figsize=(15,4))\n",
    "plotName=[]\n",
    "plotData=[]\n",
    "transitData=[]\n",
    "centerData=[]\n",
    "\n",
    "for group in tt.groupby('Window'):\n",
    "    plotName,plotData=group\n",
    "    transitData=plotData\n",
    "    x=np.arange(0,len(transitData.Time))\n",
    "    plt.hist(transitData.Rst00_Z,histtype='stepfilled',density=True)\n",
    "    plt.grid(True)\n",
    "    plt.xlabel('Z coordinate ($\\AA$)')\n",
    "    #plt.ylabel('count')\n",
    "    #a=transitData[0:200000]\n",
    "    #a.to_csv('Simulation_Milestone_Coordinate_Data.allCyl.0.5ps.100ns.csv',index=False)\n",
    "    #print (a) \n",
    "plt.show()"
   ]
  },
  {
   "cell_type": "code",
   "execution_count": 11,
   "metadata": {},
   "outputs": [],
   "source": [
    "tt=pd.read_csv('Simulation_Milestone_Coordinate_Data.allCyl.0.5ps.csv')"
   ]
  },
  {
   "cell_type": "code",
   "execution_count": 153,
   "metadata": {},
   "outputs": [],
   "source": [
    "#a.to_csv('Simulation_Milestone_Coordinate_Data.allCyl.0.5ps.20ns.csv')"
   ]
  },
  {
   "cell_type": "code",
   "execution_count": 180,
   "metadata": {},
   "outputs": [],
   "source": [
    "a=tt.groupby('Window').head(200000).reset_index(drop=True)"
   ]
  },
  {
   "cell_type": "code",
   "execution_count": 181,
   "metadata": {},
   "outputs": [
    {
     "data": {
      "text/html": [
       "<div>\n",
       "<style scoped>\n",
       "    .dataframe tbody tr th:only-of-type {\n",
       "        vertical-align: middle;\n",
       "    }\n",
       "\n",
       "    .dataframe tbody tr th {\n",
       "        vertical-align: top;\n",
       "    }\n",
       "\n",
       "    .dataframe thead th {\n",
       "        text-align: right;\n",
       "    }\n",
       "</style>\n",
       "<table border=\"1\" class=\"dataframe\">\n",
       "  <thead>\n",
       "    <tr style=\"text-align: right;\">\n",
       "      <th></th>\n",
       "      <th>Window</th>\n",
       "      <th>Rep</th>\n",
       "      <th>Time</th>\n",
       "      <th>Frame</th>\n",
       "      <th>Rst00_Z</th>\n",
       "      <th>XY_Radius</th>\n",
       "      <th>lowerWall</th>\n",
       "      <th>upperWall</th>\n",
       "      <th>X_Index</th>\n",
       "    </tr>\n",
       "  </thead>\n",
       "  <tbody>\n",
       "    <tr>\n",
       "      <th>5599995</th>\n",
       "      <td>27</td>\n",
       "      <td>1</td>\n",
       "      <td>44997500</td>\n",
       "      <td>44997500</td>\n",
       "      <td>27.260246</td>\n",
       "      <td>2.476758</td>\n",
       "      <td>26.0</td>\n",
       "      <td>28.0</td>\n",
       "      <td>27</td>\n",
       "    </tr>\n",
       "    <tr>\n",
       "      <th>5599996</th>\n",
       "      <td>27</td>\n",
       "      <td>1</td>\n",
       "      <td>44998000</td>\n",
       "      <td>44998000</td>\n",
       "      <td>28.097532</td>\n",
       "      <td>2.903020</td>\n",
       "      <td>26.0</td>\n",
       "      <td>28.0</td>\n",
       "      <td>27</td>\n",
       "    </tr>\n",
       "    <tr>\n",
       "      <th>5599997</th>\n",
       "      <td>27</td>\n",
       "      <td>1</td>\n",
       "      <td>44998500</td>\n",
       "      <td>44998500</td>\n",
       "      <td>27.019007</td>\n",
       "      <td>2.880595</td>\n",
       "      <td>26.0</td>\n",
       "      <td>28.0</td>\n",
       "      <td>27</td>\n",
       "    </tr>\n",
       "    <tr>\n",
       "      <th>5599998</th>\n",
       "      <td>27</td>\n",
       "      <td>1</td>\n",
       "      <td>44999000</td>\n",
       "      <td>44999000</td>\n",
       "      <td>27.326118</td>\n",
       "      <td>3.293590</td>\n",
       "      <td>26.0</td>\n",
       "      <td>28.0</td>\n",
       "      <td>27</td>\n",
       "    </tr>\n",
       "    <tr>\n",
       "      <th>5599999</th>\n",
       "      <td>27</td>\n",
       "      <td>1</td>\n",
       "      <td>44999500</td>\n",
       "      <td>44999500</td>\n",
       "      <td>27.951333</td>\n",
       "      <td>3.336653</td>\n",
       "      <td>26.0</td>\n",
       "      <td>28.0</td>\n",
       "      <td>27</td>\n",
       "    </tr>\n",
       "  </tbody>\n",
       "</table>\n",
       "</div>"
      ],
      "text/plain": [
       "         Window  Rep      Time     Frame    Rst00_Z  XY_Radius  lowerWall  \\\n",
       "5599995      27    1  44997500  44997500  27.260246   2.476758       26.0   \n",
       "5599996      27    1  44998000  44998000  28.097532   2.903020       26.0   \n",
       "5599997      27    1  44998500  44998500  27.019007   2.880595       26.0   \n",
       "5599998      27    1  44999000  44999000  27.326118   3.293590       26.0   \n",
       "5599999      27    1  44999500  44999500  27.951333   3.336653       26.0   \n",
       "\n",
       "         upperWall  X_Index  \n",
       "5599995       28.0       27  \n",
       "5599996       28.0       27  \n",
       "5599997       28.0       27  \n",
       "5599998       28.0       27  \n",
       "5599999       28.0       27  "
      ]
     },
     "execution_count": 181,
     "metadata": {},
     "output_type": "execute_result"
    }
   ],
   "source": [
    "a.tail()"
   ]
  },
  {
   "cell_type": "code",
   "execution_count": 182,
   "metadata": {},
   "outputs": [],
   "source": [
    "a.to_csv('Simulation_Milestone_Coordinate_Data.allCyl.0.5ps.100ns.csv',index=False)"
   ]
  },
  {
   "cell_type": "code",
   "execution_count": 7,
   "metadata": {},
   "outputs": [],
   "source": [
    "traj_5ps=972367*5/1000\n",
    "colars_5ps=995475*5/1000\n",
    "colvars_2ps=2488698*2/1000\n",
    "colvars_1ps=4977401*1/1000\n",
    "colvars_05ps=9954806*0.5/1000\n",
    "colvars_02ps=5320001*0.2/1000\n",
    "#colvars_02ps=13722000*0.2/1000"
   ]
  },
  {
   "cell_type": "code",
   "execution_count": 8,
   "metadata": {},
   "outputs": [
    {
     "name": "stdout",
     "output_type": "stream",
     "text": [
      "traj_5ps: 4861.835 ns\n",
      "5ps: 4977.375 ns\n",
      "2ps: 4977.396 ns\n",
      "1ps: 4977.401 ns\n",
      "0.5ps: 4977.403 ns\n",
      "0.2ps: 1064.0002 ns\n"
     ]
    }
   ],
   "source": [
    "print (\"traj_5ps:\",traj_5ps, \"ns\")\n",
    "print (\"5ps:\", colars_5ps, \"ns\")\n",
    "print (\"2ps:\", colvars_2ps, \"ns\")\n",
    "print (\"1ps:\", colvars_1ps, \"ns\")\n",
    "print (\"0.5ps:\", colvars_05ps, \"ns\")\n",
    "print (\"0.2ps:\", colvars_02ps, \"ns\")"
   ]
  },
  {
   "cell_type": "code",
   "execution_count": 54,
   "metadata": {
    "scrolled": true
   },
   "outputs": [
    {
     "name": "stdout",
     "output_type": "stream",
     "text": [
      "   Frame  ion_num_pos\n",
      "0      1            2\n",
      "1      2            2\n",
      "2      3            1\n",
      "3      4            2\n",
      "4      5            2\n"
     ]
    }
   ],
   "source": [
    "posV=pd.read_csv('pos0.8_ion_num.csv',delim_whitespace=True)\n",
    "posV.columns=['Frame','ion_num_pos']\n",
    "negV=pd.read_csv('neg0.8_ion_num.csv',delim_whitespace=True)\n",
    "negV.columns=['Frame','ion_num']\n",
    "# print (\"positive lenght\",len(posV))\n",
    "# print (\"negative lenght\", len(negV))\n",
    "print (posV.head())"
   ]
  },
  {
   "cell_type": "code",
   "execution_count": 55,
   "metadata": {},
   "outputs": [
    {
     "name": "stdout",
     "output_type": "stream",
     "text": [
      "       Frame ion_num_pos ion_num_neg\n",
      "49996  49997           1           1\n",
      "49997  49998           1           2\n",
      "49998  49999           1           2\n",
      "49999                               \n",
      "50000              91939       91677\n"
     ]
    }
   ],
   "source": [
    "df['Frame']=posV['Frame']\n",
    "df['ion_num_pos']=posV['ion_num_pos']\n",
    "df['ion_num_neg']=negV['ion_num']\n",
    "#print (posV.head())\n",
    "#print (df.head())\n",
    "df=df.append(df[['ion_num_pos','ion_num_neg']].sum(),ignore_index=True).fillna('')\n",
    "print (df.tail())\n",
    "#print (posV.head())"
   ]
  },
  {
   "cell_type": "code",
   "execution_count": 52,
   "metadata": {},
   "outputs": [
    {
     "data": {
      "image/png": "[encoded data removed]",
      "text/plain": [
       "<Figure size 432x288 with 1 Axes>"
      ]
     },
     "metadata": {
      "needs_background": "light"
     },
     "output_type": "display_data"
    },
    {
     "data": {
      "text/plain": [
       "(array([  0.,   0.,   0.,   0.,   0., 172.,   0.,   0.,   0.,   0.]),\n",
       " array([0.5, 0.6, 0.7, 0.8, 0.9, 1. , 1.1, 1.2, 1.3, 1.4, 1.5]),\n",
       " <BarContainer object of 10 artists>)"
      ]
     },
     "execution_count": 52,
     "metadata": {},
     "output_type": "execute_result"
    },
    {
     "data": {
      "image/png": "[encoded data removed]",
      "text/plain": [
       "<Figure size 432x288 with 1 Axes>"
      ]
     },
     "metadata": {
      "needs_background": "light"
     },
     "output_type": "display_data"
    }
   ],
   "source": [
    "plt.hist(posV.query('ion_num_pos != 0').ion_num_pos)\n",
    "plt.show()\n",
    "plt.hist(negV.query('ion_num != 0').ion_num)\n",
    "#plt.hist(negV.ion_num)"
   ]
  },
  {
   "cell_type": "code",
   "execution_count": 53,
   "metadata": {},
   "outputs": [
    {
     "data": {
      "image/png": "[encoded data removed]",
      "text/plain": [
       "<Figure size 432x288 with 1 Axes>"
      ]
     },
     "metadata": {
      "needs_background": "light"
     },
     "output_type": "display_data"
    },
    {
     "data": {
      "text/plain": [
       "[<matplotlib.lines.Line2D at 0x2204be82580>]"
      ]
     },
     "execution_count": 53,
     "metadata": {},
     "output_type": "execute_result"
    },
    {
     "data": {
      "image/png": "[encoded data removed]",
      "text/plain": [
       "<Figure size 432x288 with 1 Axes>"
      ]
     },
     "metadata": {
      "needs_background": "light"
     },
     "output_type": "display_data"
    }
   ],
   "source": [
    "plt.plot(posV.query('ion_num_pos != 0').ion_num_pos)\n",
    "plt.show()\n",
    "plt.plot(negV.query('ion_num != 0').ion_num)\n",
    "#plt.hist(negV.ion_num)"
   ]
  },
  {
   "cell_type": "code",
   "execution_count": null,
   "metadata": {},
   "outputs": [],
   "source": []
  }
 ],
 "metadata": {
  "kernelspec": {
   "display_name": "Python 3",
   "language": "python",
   "name": "python3"
  },
  "language_info": {
   "codemirror_mode": {
    "name": "ipython",
    "version": 3
   },
   "file_extension": ".py",
   "mimetype": "text/x-python",
   "name": "python",
   "nbconvert_exporter": "python",
   "pygments_lexer": "ipython3",
   "version": "3.8.5"
  }
 },
 "nbformat": 4,
 "nbformat_minor": 4
}
